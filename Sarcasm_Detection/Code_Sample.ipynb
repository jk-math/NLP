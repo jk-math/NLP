{
  "nbformat": 4,
  "nbformat_minor": 0,
  "metadata": {
    "colab": {
      "name": "Code_Sample.ipynb",
      "provenance": [],
      "collapsed_sections": []
    },
    "kernelspec": {
      "name": "python3",
      "display_name": "Python 3"
    },
    "language_info": {
      "name": "python"
    },
    "accelerator": "GPU"
  },
  "cells": [
    {
      "cell_type": "markdown",
      "metadata": {
        "id": "bzNkAZ_wNzJ3"
      },
      "source": [
        "# Sarcasm Detection\n",
        "\n",
        "https://www.kaggle.com/rmisra/news-headlines-dataset-for-sarcasm-detection/home\n",
        "\n",
        "Dataset provided by Rishabh Misra through Kaggle. The goal is to use the headline and contents of an article to predict whether or not it is sarcastic. \n",
        "\n",
        "The dataset is provided in  a JSON file. We will use the URLs to scrape the HTML for the headline and contents of the article."
      ]
    },
    {
      "cell_type": "code",
      "metadata": {
        "id": "qKITxIwGNyUr"
      },
      "source": [
        "import zipfile\n",
        "\n",
        "path = '/content/drive/MyDrive/Colab Notebooks/Sarcasm/Sarcasm_Headlines_Dataset.json.zip'\n",
        "z = zipfile.ZipFile(path, 'r')\n",
        "z.extractall('/tmp')\n",
        "z.close()"
      ],
      "execution_count": null,
      "outputs": []
    },
    {
      "cell_type": "code",
      "metadata": {
        "id": "EKoTu_fIOxJj"
      },
      "source": [
        "import json\n",
        "\n",
        "def parse_data(file):\n",
        "    for l in open(file,'r'):\n",
        "        yield json.loads(l)\n",
        "\n",
        "data = list(parse_data('/tmp/Sarcasm_Headlines_Dataset.json'))"
      ],
      "execution_count": null,
      "outputs": []
    },
    {
      "cell_type": "code",
      "metadata": {
        "colab": {
          "base_uri": "https://localhost:8080/"
        },
        "id": "JsLolbj6Pc5j",
        "outputId": "ddecd6d1-4fbb-4a63-cfaa-7ed1d288f8d2"
      },
      "source": [
        "data[0:5]"
      ],
      "execution_count": null,
      "outputs": [
        {
          "output_type": "execute_result",
          "data": {
            "text/plain": [
              "[{'article_link': 'https://www.huffingtonpost.com/entry/versace-black-code_us_5861fbefe4b0de3a08f600d5',\n",
              "  'headline': \"former versace store clerk sues over secret 'black code' for minority shoppers\",\n",
              "  'is_sarcastic': 0},\n",
              " {'article_link': 'https://www.huffingtonpost.com/entry/roseanne-revival-review_us_5ab3a497e4b054d118e04365',\n",
              "  'headline': \"the 'roseanne' revival catches up to our thorny political mood, for better and worse\",\n",
              "  'is_sarcastic': 0},\n",
              " {'article_link': 'https://local.theonion.com/mom-starting-to-fear-son-s-web-series-closest-thing-she-1819576697',\n",
              "  'headline': \"mom starting to fear son's web series closest thing she will have to grandchild\",\n",
              "  'is_sarcastic': 1},\n",
              " {'article_link': 'https://politics.theonion.com/boehner-just-wants-wife-to-listen-not-come-up-with-alt-1819574302',\n",
              "  'headline': 'boehner just wants wife to listen, not come up with alternative debt-reduction ideas',\n",
              "  'is_sarcastic': 1},\n",
              " {'article_link': 'https://www.huffingtonpost.com/entry/jk-rowling-wishes-snape-happy-birthday_us_569117c4e4b0cad15e64fdcb',\n",
              "  'headline': 'j.k. rowling wishes snape happy birthday in the most magical way',\n",
              "  'is_sarcastic': 0}]"
            ]
          },
          "metadata": {
            "tags": []
          },
          "execution_count": 3
        }
      ]
    },
    {
      "cell_type": "code",
      "metadata": {
        "id": "s7TwfGr6PdUk"
      },
      "source": [
        "labels = []\n",
        "urls = []\n",
        "for record in data:\n",
        "  labels.append(record['is_sarcastic'])\n",
        "  urls.append(record['article_link'])"
      ],
      "execution_count": null,
      "outputs": []
    },
    {
      "cell_type": "code",
      "metadata": {
        "colab": {
          "base_uri": "https://localhost:8080/"
        },
        "id": "g7UUUwJrP5L_",
        "outputId": "9518f0e2-fef1-46e6-d5a2-3e635b3c03b5"
      },
      "source": [
        "n_articles = len(labels)\n",
        "n_sarcastic = sum(labels)\n",
        "print('There are {} articles in the dataset, of which {} are sarcastic (or {} percent)'.format(n_articles, n_sarcastic, round(n_sarcastic/n_articles,4)))"
      ],
      "execution_count": null,
      "outputs": [
        {
          "output_type": "stream",
          "text": [
            "There are 26709 articles in the dataset, of which 11724 are sarcastic (or 0.439 percent)\n"
          ],
          "name": "stdout"
        }
      ]
    },
    {
      "cell_type": "markdown",
      "metadata": {
        "id": "JOMgydTmyTq2"
      },
      "source": [
        "We will use Beautiful Soup to parse the HTML. We will also preprocess the text data. This dataset only contains articles from The Onion and Huffpost, so we will remove reference to these publications in the text data."
      ]
    },
    {
      "cell_type": "code",
      "metadata": {
        "id": "yTstzGbNQ1-I"
      },
      "source": [
        "import re\n",
        "from urllib.request import Request, urlopen\n",
        "from bs4 import BeautifulSoup\n",
        "import html5lib\n",
        "import unicodedata\n",
        "\n",
        "def deEmojify(text): # thank you https://stackoverflow.com/users/6579239/abdul-razak-adam\n",
        "    regrex_pattern = re.compile(pattern = \"[\"\n",
        "        u\"\\U0001F600-\\U0001F64F\"  # emoticons\n",
        "        u\"\\U0001F300-\\U0001F5FF\"  # symbols & pictographs\n",
        "        u\"\\U0001F680-\\U0001F6FF\"  # transport & map symbols\n",
        "        u\"\\U0001F1E0-\\U0001F1FF\"  # flags (iOS)\n",
        "                           \"]+\", flags = re.UNICODE)\n",
        "    return regrex_pattern.sub(r'',text)\n",
        "\n",
        "def clean_html(raw_html):\n",
        "    tags = re.compile('<.*?>') # remove html tags and hyperrefs within text\n",
        "    cleantext = ''\n",
        "    for x in raw_html:\n",
        "        cx = re.sub(tags, '', str(x))\n",
        "        cleantext += ' ' + deEmojify(cx)\n",
        "    cleantext = cleantext[1:].lower() # tokenizer converts to lower case as default\n",
        "    publications = ['the onion', 'huffpost', '|'] # vertical bar appears frequently in Huffpost article titles\n",
        "    for pub in publications:\n",
        "      cleantext = cleantext.replace(pub, '')\n",
        "    return cleantext \n",
        "\n",
        "def get_html_data(url):\n",
        "    try:\n",
        "      req = Request(url, headers={'User-Agent': 'Mozilla/5.0'})\n",
        "      stream = urlopen(req,timeout = 5)\n",
        "      html = stream.read()\n",
        "      stream.close()\n",
        "      html = html.decode('utf-8')\n",
        "      soup = BeautifulSoup(html, 'html5lib')\n",
        "      title = clean_html(soup.find_all('title'))\n",
        "      paragraph = clean_html(soup.find_all('p'))\n",
        "      text = paragraph.replace(b'\\xe2\\x80\\x94'.decode('utf-8'), ' ') \n",
        "      # long dash character usually in the location at the beginning of an Onion article, remove so that network doesn't learn this\n",
        "      contents = clean_html(soup.find_all('title') + soup.find_all('p')) \n",
        "      #return unicodedata.normalize('NFKD',contents)\n",
        "      return title+ ' ' + text\n",
        "      # replace unicode characters with equivalents\n",
        "      # For example, \\xa0 was in text data prior to normalization \n",
        "    except:\n",
        "      # print('Failure to retrieve {}'.format(url))\n",
        "      return None"
      ],
      "execution_count": null,
      "outputs": []
    },
    {
      "cell_type": "markdown",
      "metadata": {
        "id": "TZC7oktb2hWY"
      },
      "source": [
        "The cell below gathers all of the text data from the articles. It is commented out since it takes a few hours to run. The text data has been saved in a pickle file."
      ]
    },
    {
      "cell_type": "code",
      "metadata": {
        "id": "JA3Ct8Gguw59"
      },
      "source": [
        "# import pickle\n",
        "\n",
        "# article_data = []\n",
        "\n",
        "# for i in range(n_articles):\n",
        "  # article_data.append(get_html_data(urls[i])) # this process takes a few hours\n",
        "\n",
        "# with open('/content/drive/MyDrive/Colab Notebooks/Sarcasm/article_data.pickle', 'wb') as f:\n",
        "  # pickle.dump(article_data, f)"
      ],
      "execution_count": null,
      "outputs": []
    },
    {
      "cell_type": "code",
      "metadata": {
        "id": "udxd8LMIbtfi"
      },
      "source": [
        "import pickle\n",
        "with open('/content/drive/MyDrive/Colab Notebooks/Sarcasm/article_data.pickle', 'rb') as f:\n",
        "  article_data = pickle.load(f)"
      ],
      "execution_count": null,
      "outputs": []
    },
    {
      "cell_type": "markdown",
      "metadata": {
        "id": "9_C6dtOQdhOM"
      },
      "source": [
        "We failed to scrape data from some of the URLs in the dataset. We will remove these from the dataset."
      ]
    },
    {
      "cell_type": "code",
      "metadata": {
        "id": "CMdfMiOodqzv"
      },
      "source": [
        "text_data = []\n",
        "text_labels = []\n",
        "for i, x in enumerate(article_data):\n",
        "  if x != None:\n",
        "    text_data.append(x)\n",
        "    text_labels.append(labels[i])"
      ],
      "execution_count": null,
      "outputs": []
    },
    {
      "cell_type": "code",
      "metadata": {
        "colab": {
          "base_uri": "https://localhost:8080/"
        },
        "id": "aPAEGEomeNU8",
        "outputId": "15051719-293a-4b28-f771-c693e338d32d"
      },
      "source": [
        "n_articles = len(text_labels)\n",
        "n_sarcastic = sum(text_labels)\n",
        "print('There are {} articles in the dataset, of which {} are sarcastic (or {} percent)'.format(n_articles, n_sarcastic, round(n_sarcastic/n_articles,4)))"
      ],
      "execution_count": null,
      "outputs": [
        {
          "output_type": "stream",
          "text": [
            "There are 25714 articles in the dataset, of which 11720 are sarcastic (or 0.4558 percent)\n"
          ],
          "name": "stdout"
        }
      ]
    },
    {
      "cell_type": "markdown",
      "metadata": {
        "id": "Hf2Blmc2dDyQ"
      },
      "source": [
        "Shuffle article data and labels prior to breaking into training and validation sets"
      ]
    },
    {
      "cell_type": "code",
      "metadata": {
        "id": "Lg66X1nic6QH"
      },
      "source": [
        "def shuffle_data(x,y):\n",
        "  data = list(zip(x,y))\n",
        "  random.shuffle(data)\n",
        "  return zip(*data)"
      ],
      "execution_count": null,
      "outputs": []
    },
    {
      "cell_type": "code",
      "metadata": {
        "id": "-ZpsZ6ldffqj"
      },
      "source": [
        "import random\n",
        "random.seed(737213)\n",
        "\n",
        "article_data, labels = shuffle_data(text_data, text_labels)\n",
        "\n",
        "n_training = int(n_articles*0.8) # 80% of data for training, 20% for validation\n",
        "\n",
        "x_train = text_data[:n_training]\n",
        "train_labels = text_labels[:n_training]\n",
        "x_valid = text_data[n_training:]\n",
        "valid_labels = text_labels[n_training:]"
      ],
      "execution_count": null,
      "outputs": []
    },
    {
      "cell_type": "code",
      "metadata": {
        "id": "jTVXIwd_b8Hq"
      },
      "source": [
        "# for preprocessing text\n",
        "from tensorflow.keras.preprocessing.text import Tokenizer\n",
        "from tensorflow.keras.preprocessing.sequence import pad_sequences"
      ],
      "execution_count": null,
      "outputs": []
    },
    {
      "cell_type": "markdown",
      "metadata": {
        "id": "QuEIGjPDhTP-"
      },
      "source": [
        "Parameters for tokenizing, padding, and truncating reviews that can be tuned"
      ]
    },
    {
      "cell_type": "code",
      "metadata": {
        "id": "1kY-W57AhMsN"
      },
      "source": [
        "vocab_size = 5000\n",
        "maxlen = 25\n",
        "trunc_type='post'\n",
        "pad_type='post'\n",
        "oov_tok = '<OOV>'"
      ],
      "execution_count": null,
      "outputs": []
    },
    {
      "cell_type": "code",
      "metadata": {
        "id": "a5PwQqKHhn0x"
      },
      "source": [
        "tokenizer = Tokenizer(num_words = vocab_size, oov_token=oov_tok)\n",
        "tokenizer.fit_on_texts(x_train)\n",
        "word_index = tokenizer.word_index\n",
        "\n",
        "# switch key, value for the word index so that we can use the token (number) as the key\n",
        "# look up the corresponding word\n",
        "word_index = dict([(value,key) for key, value in word_index.items()])\n",
        "\n",
        "x_train = tokenizer.texts_to_sequences(x_train)\n",
        "x_valid = tokenizer.texts_to_sequences(x_valid)\n",
        "\n",
        "x_train = pad_sequences(x_train, maxlen = maxlen,\n",
        "                       padding = pad_type, truncating = trunc_type)\n",
        "x_valid = pad_sequences(x_valid, maxlen = maxlen,\n",
        "                       padding = pad_type, truncating = trunc_type)"
      ],
      "execution_count": null,
      "outputs": []
    },
    {
      "cell_type": "markdown",
      "metadata": {
        "id": "3zsCLa1jidZK"
      },
      "source": [
        "Create Tensorflow Dataset objects to speed up training"
      ]
    },
    {
      "cell_type": "code",
      "metadata": {
        "id": "S6tsLW-nGa5g"
      },
      "source": [
        "# for model setup and training\n",
        "import tensorflow as tf\n",
        "import numpy as np\n",
        "from tensorflow.keras import Sequential\n",
        "from tensorflow.keras.layers import (Embedding, Dropout, Dense, Conv1D, GlobalMaxPooling1D,\n",
        "                          Flatten, Bidirectional, LSTM, GRU, MaxPooling1D)\n",
        "from tensorflow.keras.callbacks import EarlyStopping, ModelCheckpoint"
      ],
      "execution_count": null,
      "outputs": []
    },
    {
      "cell_type": "code",
      "metadata": {
        "id": "zpndnEX9iYiX"
      },
      "source": [
        "train_labels = np.array(train_labels)\n",
        "valid_labels = np.array(valid_labels)\n",
        "\n",
        "x_train = tf.data.Dataset.from_tensor_slices((x_train, train_labels)) \n",
        "x_valid = tf.data.Dataset.from_tensor_slices((x_valid, valid_labels))\n",
        "\n",
        "train_data = x_train.shuffle(n_training).batch(128).prefetch(1)\n",
        "valid_data = x_valid.shuffle(6000).batch(128).prefetch(1)"
      ],
      "execution_count": null,
      "outputs": []
    },
    {
      "cell_type": "code",
      "metadata": {
        "id": "VxfirMlFcRjA"
      },
      "source": [
        "import matplotlib.pyplot as plt\n",
        "\n",
        "# for assessing model training and fit\n",
        "\n",
        "def plot_training_metrics(history):\n",
        "\n",
        "  loss = history.history['loss']\n",
        "  val_loss = history.history['val_loss']\n",
        "\n",
        "  acc = history.history['accuracy']\n",
        "  val_acc = history.history['val_accuracy']\n",
        "\n",
        "  epochs_range = range(len(loss))\n",
        "\n",
        "  plt.figure(figsize=(10, 5))\n",
        "  plt.subplot(1, 2, 1)\n",
        "  plt.plot(epochs_range, acc, label='Training Acc')\n",
        "  plt.plot(epochs_range, val_acc, label='Validation Acc')\n",
        "  plt.legend(loc='lower right')\n",
        "  plt.title('Training and Validation Acc')\n",
        "\n",
        "  plt.subplot(1, 2, 2)\n",
        "  plt.plot(epochs_range, loss, label='Training Loss')\n",
        "  plt.plot(epochs_range, val_loss, label='Validation Loss')\n",
        "  plt.legend(loc='upper right')\n",
        "  plt.title('Training and Validation Loss')\n",
        "  plt.show()\n",
        "  plt.close()"
      ],
      "execution_count": null,
      "outputs": []
    },
    {
      "cell_type": "code",
      "metadata": {
        "colab": {
          "base_uri": "https://localhost:8080/"
        },
        "id": "di3n0Eh5jW-O",
        "outputId": "7a5f1ce2-8a01-4a2c-c73d-07f01a20a425"
      },
      "source": [
        "tf.keras.backend.clear_session()\n",
        "\n",
        "embedding_dim = 20\n",
        "\n",
        "conv_pool_model = tf.keras.Sequential([\n",
        "    tf.keras.layers.Embedding(vocab_size+1, embedding_dim, input_length = maxlen), # improvement: could use pretrained word embeddings\n",
        "    tf.keras.layers.Conv1D(32, 5, activation='relu'),\n",
        "    tf.keras.layers.MaxPooling1D(pool_size = 4, strides = 2),\n",
        "    tf.keras.layers.Flatten(),\n",
        "    tf.keras.layers.Dense(10, activation = 'relu'),\n",
        "    tf.keras.layers.Dense(1, activation='sigmoid')\n",
        "])\n",
        "\n",
        "conv_pool_model.compile(loss='binary_crossentropy',\n",
        "                  optimizer='adam', \n",
        "                  metrics=['accuracy'])\n",
        "\n",
        "conv_pool_model.summary()\n",
        "\n",
        "n_epochs = 5\n",
        "\n",
        "conv_pool_history = conv_pool_model.fit(train_data, epochs = n_epochs,  validation_data = valid_data)\n",
        "\n",
        "conv_pool_model.save('/content/drive/MyDrive/Colab Notebooks/Sarcasm/conv_pool_model')"
      ],
      "execution_count": null,
      "outputs": [
        {
          "output_type": "stream",
          "text": [
            "Model: \"sequential\"\n",
            "_________________________________________________________________\n",
            "Layer (type)                 Output Shape              Param #   \n",
            "=================================================================\n",
            "embedding (Embedding)        (None, 25, 20)            100020    \n",
            "_________________________________________________________________\n",
            "conv1d (Conv1D)              (None, 21, 32)            3232      \n",
            "_________________________________________________________________\n",
            "max_pooling1d (MaxPooling1D) (None, 9, 32)             0         \n",
            "_________________________________________________________________\n",
            "flatten (Flatten)            (None, 288)               0         \n",
            "_________________________________________________________________\n",
            "dense (Dense)                (None, 10)                2890      \n",
            "_________________________________________________________________\n",
            "dense_1 (Dense)              (None, 1)                 11        \n",
            "=================================================================\n",
            "Total params: 106,153\n",
            "Trainable params: 106,153\n",
            "Non-trainable params: 0\n",
            "_________________________________________________________________\n",
            "Epoch 1/5\n",
            "161/161 [==============================] - 4s 6ms/step - loss: 0.4030 - accuracy: 0.8086 - val_loss: 0.1946 - val_accuracy: 0.9294\n",
            "Epoch 2/5\n",
            "161/161 [==============================] - 1s 5ms/step - loss: 0.1420 - accuracy: 0.9481 - val_loss: 0.1685 - val_accuracy: 0.9353\n",
            "Epoch 3/5\n",
            "161/161 [==============================] - 1s 5ms/step - loss: 0.0896 - accuracy: 0.9681 - val_loss: 0.1737 - val_accuracy: 0.9329\n",
            "Epoch 4/5\n",
            "161/161 [==============================] - 1s 5ms/step - loss: 0.0576 - accuracy: 0.9801 - val_loss: 0.2201 - val_accuracy: 0.9242\n",
            "Epoch 5/5\n",
            "161/161 [==============================] - 1s 5ms/step - loss: 0.0359 - accuracy: 0.9866 - val_loss: 0.2141 - val_accuracy: 0.9302\n",
            "INFO:tensorflow:Assets written to: /content/drive/MyDrive/Colab Notebooks/Sarcasm/conv_pool_model/assets\n"
          ],
          "name": "stdout"
        }
      ]
    },
    {
      "cell_type": "code",
      "metadata": {
        "colab": {
          "base_uri": "https://localhost:8080/",
          "height": 336
        },
        "id": "eLsnDD6MkGk4",
        "outputId": "bbf9a780-b570-4083-d976-783f14110b43"
      },
      "source": [
        "plot_training_metrics(conv_pool_history)"
      ],
      "execution_count": null,
      "outputs": [
        {
          "output_type": "display_data",
          "data": {
            "image/png": "[encoded data removed]",
            "text/plain": [
              "<Figure size 720x360 with 2 Axes>"
            ]
          },
          "metadata": {
            "tags": [],
            "needs_background": "light"
          }
        }
      ]
    },
    {
      "cell_type": "code",
      "metadata": {
        "colab": {
          "base_uri": "https://localhost:8080/"
        },
        "id": "hD_1n1EstGJp",
        "outputId": "8cadb096-2f85-4477-fb0d-e46f80c99e66"
      },
      "source": [
        "tf.keras.backend.clear_session()\n",
        "\n",
        "embedding_dim = 20\n",
        "\n",
        "lstm_model = tf.keras.Sequential([\n",
        "    tf.keras.layers.Embedding(vocab_size+1, embedding_dim, input_length=maxlen),\n",
        "    tf.keras.layers.Bidirectional(tf.keras.layers.LSTM(32)), \n",
        "    tf.keras.layers.Dense(1, activation='sigmoid')\n",
        "])\n",
        "\n",
        "lstm_model.compile(loss='binary_crossentropy',\n",
        "                        optimizer='adam',\n",
        "                        metrics=['accuracy'])\n",
        "\n",
        "n_epochs = 5\n",
        "\n",
        "lstm_history = lstm_model.fit(train_data, epochs = n_epochs,  validation_data = valid_data)"
      ],
      "execution_count": null,
      "outputs": [
        {
          "output_type": "stream",
          "text": [
            "Epoch 1/5\n",
            "161/161 [==============================] - 5s 13ms/step - loss: 0.3483 - accuracy: 0.8390 - val_loss: 0.1868 - val_accuracy: 0.9296\n",
            "Epoch 2/5\n",
            "161/161 [==============================] - 1s 9ms/step - loss: 0.1332 - accuracy: 0.9521 - val_loss: 0.1751 - val_accuracy: 0.9314\n",
            "Epoch 3/5\n",
            "161/161 [==============================] - 1s 9ms/step - loss: 0.0825 - accuracy: 0.9707 - val_loss: 0.1678 - val_accuracy: 0.9419\n",
            "Epoch 4/5\n",
            "161/161 [==============================] - 1s 9ms/step - loss: 0.0472 - accuracy: 0.9853 - val_loss: 0.1969 - val_accuracy: 0.9388\n",
            "Epoch 5/5\n",
            "161/161 [==============================] - 1s 9ms/step - loss: 0.0313 - accuracy: 0.9904 - val_loss: 0.2217 - val_accuracy: 0.9403\n"
          ],
          "name": "stdout"
        }
      ]
    },
    {
      "cell_type": "code",
      "metadata": {
        "colab": {
          "base_uri": "https://localhost:8080/",
          "height": 336
        },
        "id": "yEc36ZnXtaTd",
        "outputId": "1951b0c4-8a6e-49d5-8f3b-e741593e863f"
      },
      "source": [
        "plot_training_metrics(lstm_history)"
      ],
      "execution_count": null,
      "outputs": [
        {
          "output_type": "display_data",
          "data": {
            "image/png": "[encoded data removed]",
            "text/plain": [
              "<Figure size 720x360 with 2 Axes>"
            ]
          },
          "metadata": {
            "tags": [],
            "needs_background": "light"
          }
        }
      ]
    },
    {
      "cell_type": "code",
      "metadata": {
        "colab": {
          "base_uri": "https://localhost:8080/"
        },
        "id": "UoicQ0ck_mcF",
        "outputId": "240798ac-5e54-4159-ade6-abde43fd3386"
      },
      "source": [
        "tf.keras.backend.clear_session()\n",
        "\n",
        "embedding_dim = 20\n",
        "\n",
        "hybrid_model = tf.keras.Sequential([\n",
        "    tf.keras.layers.Embedding(vocab_size+1, embedding_dim, input_length=maxlen),\n",
        "    tf.keras.layers.Conv1D(32, 8, activation='relu'),\n",
        "    tf.keras.layers.MaxPooling1D(pool_size = 4, strides = 2),\n",
        "    tf.keras.layers.Bidirectional(tf.keras.layers.LSTM(32)),\n",
        "    tf.keras.layers.Dense(1, activation='sigmoid')\n",
        "])\n",
        "\n",
        "hybrid_model.compile(loss='binary_crossentropy',\n",
        "                  optimizer='adam', \n",
        "                  metrics=['accuracy'])\n",
        "\n",
        "hybrid_history = hybrid_model.fit(train_data, epochs = n_epochs,  validation_data = valid_data)"
      ],
      "execution_count": null,
      "outputs": [
        {
          "output_type": "stream",
          "text": [
            "Epoch 1/5\n",
            "161/161 [==============================] - 4s 12ms/step - loss: 0.3480 - accuracy: 0.8273 - val_loss: 0.2045 - val_accuracy: 0.9185\n",
            "Epoch 2/5\n",
            "161/161 [==============================] - 1s 8ms/step - loss: 0.1267 - accuracy: 0.9536 - val_loss: 0.1692 - val_accuracy: 0.9337\n",
            "Epoch 3/5\n",
            "161/161 [==============================] - 1s 9ms/step - loss: 0.0683 - accuracy: 0.9783 - val_loss: 0.1991 - val_accuracy: 0.9362\n",
            "Epoch 4/5\n",
            "161/161 [==============================] - 1s 8ms/step - loss: 0.0342 - accuracy: 0.9906 - val_loss: 0.2294 - val_accuracy: 0.9366\n",
            "Epoch 5/5\n",
            "161/161 [==============================] - 1s 8ms/step - loss: 0.0192 - accuracy: 0.9950 - val_loss: 0.2906 - val_accuracy: 0.9236\n"
          ],
          "name": "stdout"
        }
      ]
    },
    {
      "cell_type": "code",
      "metadata": {
        "id": "MTO5pJ9hoOMz"
      },
      "source": [
        "# predictions\n",
        "def is_article_sarcastic(model, article_urls):\n",
        "  text_data = []\n",
        "  for url in article_urls:\n",
        "    text_data.append(get_html_data(url))\n",
        "  x = tokenizer.texts_to_sequences(text_data)\n",
        "  x = pad_sequences(x, maxlen = maxlen,\n",
        "                    padding=pad_type, truncating = trunc_type)\n",
        "  probs = model.predict(x)\n",
        "  for i, prob in enumerate(probs):\n",
        "    if prob > 0.5:\n",
        "      label = 'sarcastic'\n",
        "      p = prob\n",
        "    else:\n",
        "      label = 'NOT sarcastic'\n",
        "      p = 1 - prob\n",
        "    p = round(float(p),4)\n",
        "    print('The article \\n -- {} -- \\n is predicted to be {} with probability {} \\n'.format(article_urls[i],label, p))"
      ],
      "execution_count": null,
      "outputs": []
    },
    {
      "cell_type": "code",
      "metadata": {
        "colab": {
          "base_uri": "https://localhost:8080/"
        },
        "id": "mhzF-C6AoSMy",
        "outputId": "0b656def-5227-4e30-efa0-8fe0ffb121c2"
      },
      "source": [
        "urls = ['https://www.poughkeepsiejournal.com/story/news/education/2021/04/08/marist-covid-outbreak-person-classes-resume-monday/7149672002/',\n",
        "        'https://reductress.com/post/cold-woman-regrets-removing-arm-hair/',\n",
        "        'https://reductress.com/post/immigrant-parents-negotiating-with-cashier-at-marshalls-again/',\n",
        "        'https://www.nytimes.com/2021/07/09/technology/biden-tech-executive-order.html?action=click&module=Top%20Stories&pgtype=Homepage']\n",
        "is_article_sarcastic(lstm_model, urls)"
      ],
      "execution_count": null,
      "outputs": [
        {
          "output_type": "stream",
          "text": [
            "The article \n",
            " -- https://www.poughkeepsiejournal.com/story/news/education/2021/04/08/marist-covid-outbreak-person-classes-resume-monday/7149672002/ -- \n",
            " is predicted to be NOT sarcastic with probability 0.9279 \n",
            "\n",
            "The article \n",
            " -- https://reductress.com/post/cold-woman-regrets-removing-arm-hair/ -- \n",
            " is predicted to be sarcastic with probability 0.9398 \n",
            "\n",
            "The article \n",
            " -- https://reductress.com/post/immigrant-parents-negotiating-with-cashier-at-marshalls-again/ -- \n",
            " is predicted to be sarcastic with probability 0.9979 \n",
            "\n",
            "The article \n",
            " -- https://www.nytimes.com/2021/07/09/technology/biden-tech-executive-order.html?action=click&module=Top%20Stories&pgtype=Homepage -- \n",
            " is predicted to be NOT sarcastic with probability 0.9756 \n",
            "\n"
          ],
          "name": "stdout"
        }
      ]
    },
    {
      "cell_type": "code",
      "metadata": {
        "id": "2FRW9G6IoWJn"
      },
      "source": [
        "# predictions\n",
        "def is_text_sarcastic(model, comments):\n",
        "  x = tokenizer.texts_to_sequences(comments)\n",
        "  x = pad_sequences(x, maxlen = maxlen,\n",
        "                    padding=pad_type, truncating = trunc_type)\n",
        "  probs = model.predict(x)\n",
        "  for i, prob in enumerate(probs):\n",
        "    if prob > 0.5:\n",
        "      label = 'sarcastic'\n",
        "      p = prob\n",
        "    else:\n",
        "      label = 'NOT sarcastic'\n",
        "      p = 1 - prob\n",
        "    p = round(float(p),4)\n",
        "    print('The text \\n -- {} -- \\n is predicted to be {} with probability {} \\n'.format(comments[i],label, p))"
      ],
      "execution_count": null,
      "outputs": []
    },
    {
      "cell_type": "code",
      "metadata": {
        "colab": {
          "base_uri": "https://localhost:8080/"
        },
        "id": "mESvxQXApAZD",
        "outputId": "d2523fac-90a0-4a88-c78c-dcfa52c124af"
      },
      "source": [
        "comments = ['I’m not saying I hate you, what I’m saying is that you are literally the Monday of my life',\n",
        "            'The Brooklyn Nets are finalizing a deal with David Vanterpool to become an assistant coach, sources tell ESPN.',\n",
        "            'What were you doing under our window, boy? Listening to the news said Harry in a resigned voice. His aunt and uncle exchanged looks of outrage. Listening to the news! Again? Well, it changes every day, you see, said Harry.',\n",
        "            'remember like two weeks ago when conservatives tried to convince us that infrastructure had nothing to do with the climate crisis',\n",
        "            'It was the best of times, it was the worst of times, it was the age of wisdom, it was the age of foolishness, it was the epoch of belief, it was the epoch of incredulity, it was the season of Light, it was the season of Darkness, it was the spring of hope, it was the winter of despair.',\n",
        "            'I wanted you to see what real courage is, instead of getting the idea that courage is a man with a gun in his hand. It’s when you know you’re licked before you begin, but you begin anyway and see it through no matter what.'\n",
        "            ]\n",
        "is_text_sarcastic(lstm_model, comments)"
      ],
      "execution_count": null,
      "outputs": [
        {
          "output_type": "stream",
          "text": [
            "The text \n",
            " -- I’m not saying I hate you, what I’m saying is that you are literally the Monday of my life -- \n",
            " is predicted to be sarcastic with probability 0.9049 \n",
            "\n",
            "The text \n",
            " -- The Brooklyn Nets are finalizing a deal with David Vanterpool to become an assistant coach, sources tell ESPN. -- \n",
            " is predicted to be sarcastic with probability 0.824 \n",
            "\n",
            "The text \n",
            " -- What were you doing under our window, boy? Listening to the news said Harry in a resigned voice. His aunt and uncle exchanged looks of outrage. Listening to the news! Again? Well, it changes every day, you see, said Harry. -- \n",
            " is predicted to be NOT sarcastic with probability 0.9999 \n",
            "\n",
            "The text \n",
            " -- remember like two weeks ago when conservatives tried to convince us that infrastructure had nothing to do with the climate crisis -- \n",
            " is predicted to be sarcastic with probability 0.5251 \n",
            "\n",
            "The text \n",
            " -- It was the best of times, it was the worst of times, it was the age of wisdom, it was the age of foolishness, it was the epoch of belief, it was the epoch of incredulity, it was the season of Light, it was the season of Darkness, it was the spring of hope, it was the winter of despair. -- \n",
            " is predicted to be NOT sarcastic with probability 0.9999 \n",
            "\n",
            "The text \n",
            " -- I wanted you to see what real courage is, instead of getting the idea that courage is a man with a gun in his hand. It’s when you know you’re licked before you begin, but you begin anyway and see it through no matter what. -- \n",
            " is predicted to be NOT sarcastic with probability 0.9999 \n",
            "\n"
          ],
          "name": "stdout"
        }
      ]
    },
    {
      "cell_type": "code",
      "metadata": {
        "id": "IpPbMOxFqMTE"
      },
      "source": [
        ""
      ],
      "execution_count": null,
      "outputs": []
    }
  ]
}