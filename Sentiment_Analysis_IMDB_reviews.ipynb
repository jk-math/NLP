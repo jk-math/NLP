{
  "nbformat": 4,
  "nbformat_minor": 0,
  "metadata": {
    "colab": {
      "name": "Sentiment_Analysis_IMDB_reviews.ipynb",
      "provenance": [],
      "collapsed_sections": [],
      "authorship_tag": "ABX9TyM9f930QBB0/l2/cJ24gIoH",
      "include_colab_link": true
    },
    "kernelspec": {
      "name": "python3",
      "display_name": "Python 3"
    },
    "accelerator": "GPU"
  },
  "cells": [
    {
      "cell_type": "markdown",
      "metadata": {
        "id": "view-in-github",
        "colab_type": "text"
      },
      "source": [
        "<a href=\"https://colab.research.google.com/github/jk-math/NLP/blob/main/Sentiment_Analysis_IMDB_reviews.ipynb\" target=\"_parent\"><img src=\"https://colab.research.google.com/assets/colab-badge.svg\" alt=\"Open In Colab\"/></a>"
      ]
    },
    {
      "cell_type": "code",
      "metadata": {
        "id": "ds4k7qTi0pN6"
      },
      "source": [
        "import tensorflow as tf\n",
        "import numpy as np\n",
        "import tensorflow_datasets as tfds\n",
        "import pandas as pd\n",
        "import random\n",
        "import matplotlib.pyplot as plt\n",
        "import os\n",
        "import io"
      ],
      "execution_count": 1,
      "outputs": []
    },
    {
      "cell_type": "markdown",
      "metadata": {
        "id": "XJ48FC985Age"
      },
      "source": [
        "## Downloading and preprocessing the data\n",
        "\n",
        "\n",
        "\n"
      ]
    },
    {
      "cell_type": "markdown",
      "metadata": {
        "id": "PH4BpjApJbAJ"
      },
      "source": [
        "Download the IMDB Reviews raw data"
      ]
    },
    {
      "cell_type": "code",
      "metadata": {
        "id": "GKIusIbbCI34"
      },
      "source": [
        "import urllib.request\n",
        "import tarfile\n",
        "thetarfile = \"https://ai.stanford.edu/~amaas/data/sentiment/aclImdb_v1.tar.gz\"\n",
        "ftpstream = urllib.request.urlopen(thetarfile)\n",
        "thetarfile = tarfile.open(fileobj=ftpstream, mode=\"r|gz\")\n",
        "thetarfile.extractall()"
      ],
      "execution_count": 2,
      "outputs": []
    },
    {
      "cell_type": "markdown",
      "metadata": {
        "id": "NwENJy6HJgD9"
      },
      "source": [
        "Get the file paths for all of the reviews so that we can read the reviews from each text file and put them together into one large dataset"
      ]
    },
    {
      "cell_type": "code",
      "metadata": {
        "id": "6-Qscffh5tor",
        "colab": {
          "base_uri": "https://localhost:8080/"
        },
        "outputId": "ac68a630-4d86-473e-9eff-a9f4837d8134"
      },
      "source": [
        "# Get the file names from a particular folder\n",
        "import os             \n",
        "train_files_pos = os.listdir('./aclImdb/train/pos')\n",
        "print(train_files_pos[0:5])"
      ],
      "execution_count": 3,
      "outputs": [
        {
          "output_type": "stream",
          "text": [
            "['4041_7.txt', '10951_8.txt', '10203_10.txt', '7314_10.txt', '1967_8.txt']\n"
          ],
          "name": "stdout"
        }
      ]
    },
    {
      "cell_type": "code",
      "metadata": {
        "id": "SkV9u0HIFzM7",
        "colab": {
          "base_uri": "https://localhost:8080/"
        },
        "outputId": "bab82c38-afaa-4075-8658-502660f6aef4"
      },
      "source": [
        "# Gets the entire file path\n",
        "import glob\n",
        "train_pos_txt_files = glob.glob('./aclImdb/train/pos/*.txt')\n",
        "train_neg_txt_files = glob.glob('./aclImdb/train/neg/*.txt')\n",
        "test_pos_txt_files = glob.glob('./aclImdb/test/pos/*.txt')\n",
        "test_neg_txt_files = glob.glob('./aclImdb/test/neg/*.txt')\n",
        "print(train_pos_txt_files[0:3])\n",
        "pos_files = [train_pos_txt_files, test_pos_txt_files]\n",
        "neg_files = [train_neg_txt_files, test_neg_txt_files]"
      ],
      "execution_count": 4,
      "outputs": [
        {
          "output_type": "stream",
          "text": [
            "['./aclImdb/train/pos/4041_7.txt', './aclImdb/train/pos/10951_8.txt', './aclImdb/train/pos/10203_10.txt']\n"
          ],
          "name": "stdout"
        }
      ]
    },
    {
      "cell_type": "markdown",
      "metadata": {
        "id": "t4f7fiUqJrZs"
      },
      "source": [
        "The reviews contain HTML tags, so we remove them"
      ]
    },
    {
      "cell_type": "code",
      "metadata": {
        "id": "uq2REuBRIcJy"
      },
      "source": [
        "import re\n",
        "\n",
        "def clean_html(raw_html):\n",
        "  cleanr = re.compile('<.*?>')\n",
        "  cleantext = re.sub(cleanr, '', raw_html)\n",
        "  return cleantext.lower() # the tokenizer converts to lowercase as a default"
      ],
      "execution_count": 5,
      "outputs": []
    },
    {
      "cell_type": "markdown",
      "metadata": {
        "id": "zPmGhdma4jSO"
      },
      "source": [
        "Remove HTML tags from all reviews and store the reviews as strings in a list"
      ]
    },
    {
      "cell_type": "code",
      "metadata": {
        "id": "BKGLEsMBGI2v"
      },
      "source": [
        "pos_reviews = []\n",
        "neg_reviews = []\n",
        "for collection in pos_files:\n",
        "  for path in collection:\n",
        "    with open(path, 'r') as f:\n",
        "      pos_reviews.append(clean_html(f.read()))\n",
        "for collection in neg_files:\n",
        "  for path in collection:\n",
        "    with open(path, 'r') as f:\n",
        "      neg_reviews.append(clean_html(f.read()))"
      ],
      "execution_count": 6,
      "outputs": []
    },
    {
      "cell_type": "markdown",
      "metadata": {
        "id": "X41Wusps4rQ7"
      },
      "source": [
        "Create training, validation, and test sets"
      ]
    },
    {
      "cell_type": "code",
      "metadata": {
        "id": "A3lUj9BJL_NE"
      },
      "source": [
        "train_revs = pos_reviews[:20000] + neg_reviews[:20000]\n",
        "train_labels = [1]*20000 + [0]*20000\n",
        "valid_revs = pos_reviews[20000:22500]+neg_reviews[20000:22500]\n",
        "valid_labels = [1]*2500 + [0]*2500\n",
        "test_revs = pos_reviews[22500:]+neg_reviews[22500:]\n",
        "test_labels = [1]*2500 + [0]*2500"
      ],
      "execution_count": 7,
      "outputs": []
    },
    {
      "cell_type": "markdown",
      "metadata": {
        "id": "CUi-79_Z4wq2"
      },
      "source": [
        "Shuffle the data prior to training. We only need to shuffle the training and validation data"
      ]
    },
    {
      "cell_type": "code",
      "metadata": {
        "id": "wrzzPm4CqU1z"
      },
      "source": [
        "def shuffle_data(x,y):\n",
        "  data = list(zip(x,y))\n",
        "  random.shuffle(data)\n",
        "  return zip(*data)"
      ],
      "execution_count": 8,
      "outputs": []
    },
    {
      "cell_type": "code",
      "metadata": {
        "id": "F7A3Q_gdXPgp"
      },
      "source": [
        "train_revs, train_labels = shuffle_data(train_revs, train_labels)\n",
        "\n",
        "valid_revs, valid_labels = shuffle_data(valid_revs, valid_labels)\n",
        "\n",
        "test_revs, test_labels = shuffle_data(test_revs, test_labels)"
      ],
      "execution_count": 9,
      "outputs": []
    },
    {
      "cell_type": "markdown",
      "metadata": {
        "id": "NVDLCfcmrHW2"
      },
      "source": [
        "Tokenize and pad the reviews"
      ]
    },
    {
      "cell_type": "code",
      "metadata": {
        "id": "pJRHOWaTrRoE"
      },
      "source": [
        "# these same parameters are used in every model\n",
        "vocab_size = 50000\n",
        "max_length = 250\n",
        "trunc_type='post'\n",
        "pad_type='post'\n",
        "oov_tok = \"<OOV>\"\n",
        "\n",
        "from tensorflow.keras.preprocessing.text import Tokenizer\n",
        "from tensorflow.keras.preprocessing.sequence import pad_sequences\n",
        "\n",
        "tokenizer = Tokenizer(num_words = vocab_size, oov_token=oov_tok)\n",
        "tokenizer.fit_on_texts(train_revs)\n",
        "word_index = tokenizer.word_index\n",
        "\n",
        "# switch key, value for the word index so that we can use the token (number) as the key\n",
        "# look up the corresponding word\n",
        "word_index = dict([(value,key) for key, value in word_index.items()])"
      ],
      "execution_count": 10,
      "outputs": []
    },
    {
      "cell_type": "code",
      "metadata": {
        "id": "f38Yv256T8jA"
      },
      "source": [
        "def toke_and_pad(sentences, max_len = 250, trunc_type = 'post', pad_type = 'post'):\n",
        "  tokenized = tokenizer.texts_to_sequences(sentences)\n",
        "  tokenized_and_padded = pad_sequences(tokenized, maxlen=max_len, truncating=trunc_type, padding=pad_type)\n",
        "  return tokenized_and_padded"
      ],
      "execution_count": 11,
      "outputs": []
    },
    {
      "cell_type": "code",
      "metadata": {
        "id": "T8IGRVnnaMtv"
      },
      "source": [
        "# Pad the sequences so that they are all the same length\n",
        "x_train = toke_and_pad(train_revs)\n",
        "x_valid = toke_and_pad(valid_revs)\n",
        "x_test = toke_and_pad(test_revs)\n",
        "\n",
        "train_labels = np.array(train_labels)\n",
        "valid_labels = np.array(valid_labels)\n",
        "test_labels = np.array(test_labels)"
      ],
      "execution_count": 12,
      "outputs": []
    },
    {
      "cell_type": "markdown",
      "metadata": {
        "id": "NhnBHQIQVSIh"
      },
      "source": [
        "Create Tensorflow Dataset and batch the data for quicker training"
      ]
    },
    {
      "cell_type": "code",
      "metadata": {
        "id": "zytaKYu_unBa"
      },
      "source": [
        "train = tf.data.Dataset.from_tensor_slices((x_train, train_labels)) \n",
        "valid = tf.data.Dataset.from_tensor_slices((x_valid, valid_labels))\n",
        "test = tf.data.Dataset.from_tensor_slices((x_test, test_labels))"
      ],
      "execution_count": 13,
      "outputs": []
    },
    {
      "cell_type": "code",
      "metadata": {
        "id": "onGHtZ5HyOim"
      },
      "source": [
        "train = train.shuffle(20000).batch(128).prefetch(1)\n",
        "valid = valid.shuffle(5000).batch(128).prefetch(1)"
      ],
      "execution_count": 14,
      "outputs": []
    },
    {
      "cell_type": "markdown",
      "metadata": {
        "id": "JKb-qg-hVafc"
      },
      "source": [
        "## Define functions for training"
      ]
    },
    {
      "cell_type": "code",
      "metadata": {
        "id": "pPPOg4HeVpKH"
      },
      "source": [
        "def plot_training_metrics(history):\n",
        "\n",
        "  loss = history.history['loss']\n",
        "  val_loss = history.history['val_loss']\n",
        "\n",
        "  acc = history.history['accuracy']\n",
        "  val_acc = history.history['val_accuracy']\n",
        "\n",
        "  epochs_range = range(len(loss))\n",
        "\n",
        "  plt.figure(figsize=(10, 5))\n",
        "  plt.subplot(1, 2, 1)\n",
        "  plt.plot(epochs_range, acc, label='Training Acc')\n",
        "  plt.plot(epochs_range, val_acc, label='Validation Acc')\n",
        "  plt.legend(loc='lower right')\n",
        "  plt.title('Training and Validation Acc')\n",
        "\n",
        "  plt.subplot(1, 2, 2)\n",
        "  plt.plot(epochs_range, loss, label='Training Loss')\n",
        "  plt.plot(epochs_range, val_loss, label='Validation Loss')\n",
        "  plt.legend(loc='upper right')\n",
        "  plt.title('Training and Validation Loss')\n",
        "  plt.show()\n",
        "  plt.close()"
      ],
      "execution_count": 15,
      "outputs": []
    },
    {
      "cell_type": "code",
      "metadata": {
        "id": "gFc0VtJTWM-N"
      },
      "source": [
        "def get_embed_visual_files(model):\n",
        "  # First get the weights of the embedding layer\n",
        "  e = model.layers[0]\n",
        "  weights = e.get_weights()[0]\n",
        "  print(weights.shape) # shape: (vocab_size, embedding_dim)\n",
        "\n",
        "  # Write out the embedding vectors and metadata\n",
        "  out_v = io.open('vecs.tsv', 'w', encoding='utf-8')\n",
        "  out_m = io.open('meta.tsv', 'w', encoding='utf-8')\n",
        "  for word_num in range(1, vocab_size):\n",
        "    word = word_index[word_num]\n",
        "    embeddings = weights[word_num]\n",
        "    out_m.write(word + \"\\n\")\n",
        "    out_v.write('\\t'.join([str(x) for x in embeddings]) + \"\\n\")\n",
        "  out_v.close()\n",
        "  out_m.close()\n",
        "\n",
        "  # Download the files\n",
        "  try:\n",
        "    from google.colab import files\n",
        "  except ImportError:\n",
        "    pass\n",
        "  else:\n",
        "    files.download('vecs.tsv')\n",
        "    files.download('meta.tsv')"
      ],
      "execution_count": 16,
      "outputs": []
    },
    {
      "cell_type": "code",
      "metadata": {
        "id": "54O4B6NIW9Dc"
      },
      "source": [
        "def fit_model(model, return_preds = False, num_epochs = 100): # input a compiled model\n",
        "  # the input_dim and the input_length of the embedding layer\n",
        "  # must match the vocab size and max length parameters of the Tokenizer, respectively\n",
        "  # the same training, validation, and test sets are used\n",
        "  early_stop = tf.keras.callbacks.EarlyStopping(monitor = 'val_accuracy', \n",
        "                                              restore_best_weights = True, patience = 5)\n",
        "  # check_point = tf.keras.callbacks.ModelCheckpoint('model_checkpoint', monitor = 'val_accuracy', save_weights_only = True, save_freq = 'epoch')\n",
        "  model.summary()\n",
        "  history = model.fit(train, \n",
        "          epochs=num_epochs, \n",
        "          validation_data=valid,\n",
        "          callbacks = [early_stop],\n",
        "          verbose = 0) # early stopping will be used in training every model\n",
        "  plot_training_metrics(history)\n",
        "  test_acc = model.evaluate(x_test, test_labels)\n",
        "  print('The accuracy of this model on the unseen test set is {}'.format(round(test_acc[1],4)))\n",
        "  if return_preds == True:\n",
        "    pred_proba = model.predict(x_test)\n",
        "    pred_labels = [0 if p < 0.5 else 1 for p in pred_proba]\n",
        "    return history, pred_labels\n",
        "  else:\n",
        "    return history"
      ],
      "execution_count": 17,
      "outputs": []
    },
    {
      "cell_type": "code",
      "metadata": {
        "id": "eWp5FNb_Z0F7"
      },
      "source": [
        "def print_incorrect_preds(pred_labels, true_labels, num=5): # print some of the reviews which are incorrectly classified by a model\n",
        "  j = 0\n",
        "  for i in range(len(pred_labels)):\n",
        "    if j < num:\n",
        "      if pred_labels[i] == test_labels[i]:\n",
        "        continue\n",
        "      else:\n",
        "        j += 1\n",
        "        print('The following review is predicted to be {}, but it is {}'.format(pred_labels[i], test_labels[i]))\n",
        "        print((test_revs[i]))\n",
        "        print()"
      ],
      "execution_count": 18,
      "outputs": []
    },
    {
      "cell_type": "code",
      "metadata": {
        "colab": {
          "base_uri": "https://localhost:8080/",
          "height": 683
        },
        "id": "MHbeV0vkdc9c",
        "outputId": "15ad9503-bec8-4d82-f050-f207207adc76"
      },
      "source": [
        "tf.keras.backend.clear_session()\n",
        "embedding_dim = 25\n",
        "globalMaxPool_model = tf.keras.Sequential([\n",
        "    tf.keras.layers.Embedding(vocab_size, embedding_dim, input_length=max_length),\n",
        "    tf.keras.layers.GlobalMaxPooling1D(data_format='channels_first'),\n",
        "    tf.keras.layers.Dropout(0.2),\n",
        "    tf.keras.layers.Dense(10, activation='relu'),\n",
        "    tf.keras.layers.Dense(1, activation = 'sigmoid')\n",
        "])\n",
        "globalMaxPool_model.compile(loss='binary_crossentropy',\n",
        "              optimizer='adam',metrics=['accuracy'])\n",
        "\n",
        "globalMaxPool_history, globalMaxPool_preds = fit_model(globalMaxPool_model,return_preds = True)"
      ],
      "execution_count": 19,
      "outputs": [
        {
          "output_type": "stream",
          "text": [
            "Model: \"sequential\"\n",
            "_________________________________________________________________\n",
            "Layer (type)                 Output Shape              Param #   \n",
            "=================================================================\n",
            "embedding (Embedding)        (None, 250, 25)           1250000   \n",
            "_________________________________________________________________\n",
            "global_max_pooling1d (Global (None, 250)               0         \n",
            "_________________________________________________________________\n",
            "dropout (Dropout)            (None, 250)               0         \n",
            "_________________________________________________________________\n",
            "dense (Dense)                (None, 10)                2510      \n",
            "_________________________________________________________________\n",
            "dense_1 (Dense)              (None, 1)                 11        \n",
            "=================================================================\n",
            "Total params: 1,252,521\n",
            "Trainable params: 1,252,521\n",
            "Non-trainable params: 0\n",
            "_________________________________________________________________\n"
          ],
          "name": "stdout"
        },
        {
          "output_type": "display_data",
          "data": {
            "image/png": "[encoded data removed]",
            "text/plain": [
              "<Figure size 720x360 with 2 Axes>"
            ]
          },
          "metadata": {
            "tags": [],
            "needs_background": "light"
          }
        },
        {
          "output_type": "stream",
          "text": [
            "157/157 [==============================] - 0s 2ms/step - loss: 0.3248 - accuracy: 0.8670\n",
            "The accuracy of this model on the unseen test set is 0.867\n"
          ],
          "name": "stdout"
        }
      ]
    },
    {
      "cell_type": "code",
      "metadata": {
        "colab": {
          "base_uri": "https://localhost:8080/"
        },
        "id": "JNZjOAcFmZQm",
        "outputId": "21b7e511-7870-4483-b207-b7c365c5ac06"
      },
      "source": [
        "print_incorrect_preds(globalMaxPool_preds, test_labels)"
      ],
      "execution_count": 20,
      "outputs": [
        {
          "output_type": "stream",
          "text": [
            "The following review is predicted to be 0, but it is 1\n",
            "***spoilers*** ***spoilers*** wow, what a predicament joanna has found herself in. after accidentally running over a young child, she goes to call for help, only to return to the crime scene amidst a group of very angry onlookers. understanda- bly, this is too much for her to handle, and she flees the scene. luckily the child didn't die, but is seriously injured and in a coma. so starts the biggest struggle in joanna's life: should she keep quiet or speak up? at first she doesn't, but eventually she realises that it's torture living with such a horrible secret.at one point she even joins a search party to help find the culprit. and gradually a detective starts to question this woman's behavior. she wants to tell the truth, and she never meant to run away from the crime scene, but is it worth telling and having the whole town hate you for it?the thing about this movie is that you don't choose sides. joanna is very much a good role model, even though she's made some wrong choices. you feel for her, even though you know what she did was wrong. her journey is a good representation of what any human being would go through if something like this were to happen to them.margaret colin is an absolutely brilliant actress. she was amazing in the tv series now and again and great in films like independence day and the devil's own. her performance here is so realistic and unforced that she carries us singlehandedly through the entire film. in the end, i wanted to see more of her. lisa vidal also provided some good supporting work as the gentle, resourceful detective.to wrap it up, if you wanna see a movie that will make you think long afterwards, one that will say \"this is reality\", then you won't want to miss this one.my rating: 9/10\n",
            "\n",
            "The following review is predicted to be 0, but it is 1\n",
            "it's a sad state in corporate hollywood when a movie surprises you by not taking routes you've been seeing in the movie house since day one. i had literally no idea how this film was going to end, because it went left when i expected it to go right, zigged when i expected a zag, etc. this could have easily unraveled into generic suspense thriller, or depressing white trash drama, but it stayed a course all its own till the end. it is a sad story, though. not because of what happens to alice, but because of the sad world that surrounds her and leads her down this path.the plot has a quiet dignity of form that's usually reserved for theater, but the pacing could use some tightening up. either way, it's a very good film, and for some reason i suspect sour grapes from those who have scored this one low.\n",
            "\n",
            "The following review is predicted to be 1, but it is 0\n",
            "it's the best film that takes the first place at the sickest and an useful films ever made in this poor country. really u people even don't know what the word cinema means and u cast votes for movies, i'm really curious to know how many movies of p.p.p. or l.bunuel have u seen. the score of this \"faield experiment\" it reflects a lot of u're way of understanding things and to recognize a good/quality movie when u see it. we the romanian people have only one movie and until this day the status hasn't change & that movie is \"padurea spanzuratilor\". but i don't lose my time thinking how many of you have seen it. that is a movie that respects all the required quality's's of an movie. from the script to the frames and even to the quality/clarity of the picture even are past over him 41 years. i recommend to the voters to search for better movies and then vote. kudos will see u later .\n",
            "\n",
            "The following review is predicted to be 1, but it is 0\n",
            "brilliant acting, excellent plot, wonderful special effects! this is what i would say about this movie if i had been watching it with a bag of diarreha on my head for the entire film. instead, i endured a 2 hour crap-o-rama. our \"brilliant\" story begins with some billionare who has nothing better to do than look in volcanoes in a vain attempt to find his lucky charms. instead, he finds a 5'4\" man in a cheesy rubber dinosaur suit and some queer cave-folk.in his infinite wisdom, (along with his infinitely large nose)he decides to go inside this volcano with a team of \"special\" people. to travel to this underground land, they go by plane? no. boat? no. they use this giant soup can with a \"solid metal\" drill on the end that i swear i saw wobble. in summation, this movie was faker than....oh that's right! this was the fakest movie i've seen! for those of you who haven't seen it and are thinking of sitting down on a sunday afternoon with this wonderful movie; i warn you! if you watch this movie you should be prepared to cut of any shred of your manhood and give yourself a full frontal lobotomy.eccchhh!! the rating system only allows for a minimum of 1/10. i give this a -10/10!\n",
            "\n",
            "The following review is predicted to be 0, but it is 1\n",
            "for the record, i am a curly fan through and through. but i do have to say that in reality, shemp wasn't really that bad. yeah, he might have lacked the same kind of slapstick that curly had, but in his own way he was hilarious. at least he wasn't as bad as joe besser.in brideless groom, shemp plays a music professor (stooge? a professor? yeah right), who recently inherited a half million dollars from a dead uncle, and moe & larry have to prepare him to marry a woman by six o'clock that night, or no money.this was one of the stooges' first skit with shemp, before they started recycling their material. perhaps it isn't surprising that shemp was part of the stooges before curly came into the picture, so he seemed natural at this. the slapstick gags are hilarious, especially this one scene with moe and shemp in a phone booth. essential stooge short to be honest.\n",
            "\n"
          ],
          "name": "stdout"
        }
      ]
    },
    {
      "cell_type": "code",
      "metadata": {
        "colab": {
          "base_uri": "https://localhost:8080/",
          "height": 752
        },
        "id": "FmtbE_Lia35W",
        "outputId": "88d3ca48-aa72-4dd9-e042-5a50729deb9a"
      },
      "source": [
        "tf.keras.backend.clear_session()\n",
        "\n",
        "model_cnn = tf.keras.Sequential([\n",
        "    tf.keras.layers.Embedding(vocab_size, 25, input_length = max_length),\n",
        "    tf.keras.layers.Conv1D(32, 7, activation='relu'),\n",
        "    tf.keras.layers.MaxPooling1D(pool_size = 4, strides = 2),\n",
        "    tf.keras.layers.Flatten(),\n",
        "    tf.keras.layers.Dropout(0.5),\n",
        "    tf.keras.layers.Dense(10, activation = 'relu'),\n",
        "    tf.keras.layers.Dense(1, activation='sigmoid')\n",
        "])\n",
        "\n",
        "model_cnn.compile(loss='binary_crossentropy',\n",
        "                  optimizer='adam', \n",
        "                  metrics=['accuracy'])\n",
        "cnn_history, cnn_preds = fit_model(model_cnn, return_preds = True)"
      ],
      "execution_count": 21,
      "outputs": [
        {
          "output_type": "stream",
          "text": [
            "Model: \"sequential\"\n",
            "_________________________________________________________________\n",
            "Layer (type)                 Output Shape              Param #   \n",
            "=================================================================\n",
            "embedding (Embedding)        (None, 250, 25)           1250000   \n",
            "_________________________________________________________________\n",
            "conv1d (Conv1D)              (None, 244, 32)           5632      \n",
            "_________________________________________________________________\n",
            "max_pooling1d (MaxPooling1D) (None, 121, 32)           0         \n",
            "_________________________________________________________________\n",
            "flatten (Flatten)            (None, 3872)              0         \n",
            "_________________________________________________________________\n",
            "dropout (Dropout)            (None, 3872)              0         \n",
            "_________________________________________________________________\n",
            "dense (Dense)                (None, 10)                38730     \n",
            "_________________________________________________________________\n",
            "dense_1 (Dense)              (None, 1)                 11        \n",
            "=================================================================\n",
            "Total params: 1,294,373\n",
            "Trainable params: 1,294,373\n",
            "Non-trainable params: 0\n",
            "_________________________________________________________________\n"
          ],
          "name": "stdout"
        },
        {
          "output_type": "display_data",
          "data": {
            "image/png": "[encoded data removed]",
            "text/plain": [
              "<Figure size 720x360 with 2 Axes>"
            ]
          },
          "metadata": {
            "tags": [],
            "needs_background": "light"
          }
        },
        {
          "output_type": "stream",
          "text": [
            "157/157 [==============================] - 0s 3ms/step - loss: 0.2640 - accuracy: 0.8894\n",
            "The accuracy of this model on the unseen test set is 0.8894\n"
          ],
          "name": "stdout"
        }
      ]
    },
    {
      "cell_type": "code",
      "metadata": {
        "colab": {
          "base_uri": "https://localhost:8080/"
        },
        "id": "LDtW1Scdmmcc",
        "outputId": "cf090de1-b84a-41b8-e80b-02c1ed1ccb07"
      },
      "source": [
        "print_incorrect_preds(cnn_preds, test_labels)"
      ],
      "execution_count": 22,
      "outputs": [
        {
          "output_type": "stream",
          "text": [
            "The following review is predicted to be 1, but it is 0\n",
            "a brilliant professor and his sidekick journey to the center of the earth in a huge machine which screws its way to the core. there, naturally, they find all kinds of things that are intent on killing and eating them. plus, of course, a love interest for the young sidekick. ho hum, does the plot never take a different tack?\n",
            "\n",
            "The following review is predicted to be 0, but it is 1\n",
            "it's a sad state in corporate hollywood when a movie surprises you by not taking routes you've been seeing in the movie house since day one. i had literally no idea how this film was going to end, because it went left when i expected it to go right, zigged when i expected a zag, etc. this could have easily unraveled into generic suspense thriller, or depressing white trash drama, but it stayed a course all its own till the end. it is a sad story, though. not because of what happens to alice, but because of the sad world that surrounds her and leads her down this path.the plot has a quiet dignity of form that's usually reserved for theater, but the pacing could use some tightening up. either way, it's a very good film, and for some reason i suspect sour grapes from those who have scored this one low.\n",
            "\n",
            "The following review is predicted to be 1, but it is 0\n",
            "it's the best film that takes the first place at the sickest and an useful films ever made in this poor country. really u people even don't know what the word cinema means and u cast votes for movies, i'm really curious to know how many movies of p.p.p. or l.bunuel have u seen. the score of this \"faield experiment\" it reflects a lot of u're way of understanding things and to recognize a good/quality movie when u see it. we the romanian people have only one movie and until this day the status hasn't change & that movie is \"padurea spanzuratilor\". but i don't lose my time thinking how many of you have seen it. that is a movie that respects all the required quality's's of an movie. from the script to the frames and even to the quality/clarity of the picture even are past over him 41 years. i recommend to the voters to search for better movies and then vote. kudos will see u later .\n",
            "\n",
            "The following review is predicted to be 1, but it is 0\n",
            "brilliant acting, excellent plot, wonderful special effects! this is what i would say about this movie if i had been watching it with a bag of diarreha on my head for the entire film. instead, i endured a 2 hour crap-o-rama. our \"brilliant\" story begins with some billionare who has nothing better to do than look in volcanoes in a vain attempt to find his lucky charms. instead, he finds a 5'4\" man in a cheesy rubber dinosaur suit and some queer cave-folk.in his infinite wisdom, (along with his infinitely large nose)he decides to go inside this volcano with a team of \"special\" people. to travel to this underground land, they go by plane? no. boat? no. they use this giant soup can with a \"solid metal\" drill on the end that i swear i saw wobble. in summation, this movie was faker than....oh that's right! this was the fakest movie i've seen! for those of you who haven't seen it and are thinking of sitting down on a sunday afternoon with this wonderful movie; i warn you! if you watch this movie you should be prepared to cut of any shred of your manhood and give yourself a full frontal lobotomy.eccchhh!! the rating system only allows for a minimum of 1/10. i give this a -10/10!\n",
            "\n",
            "The following review is predicted to be 0, but it is 1\n",
            "for the record, i am a curly fan through and through. but i do have to say that in reality, shemp wasn't really that bad. yeah, he might have lacked the same kind of slapstick that curly had, but in his own way he was hilarious. at least he wasn't as bad as joe besser.in brideless groom, shemp plays a music professor (stooge? a professor? yeah right), who recently inherited a half million dollars from a dead uncle, and moe & larry have to prepare him to marry a woman by six o'clock that night, or no money.this was one of the stooges' first skit with shemp, before they started recycling their material. perhaps it isn't surprising that shemp was part of the stooges before curly came into the picture, so he seemed natural at this. the slapstick gags are hilarious, especially this one scene with moe and shemp in a phone booth. essential stooge short to be honest.\n",
            "\n"
          ],
          "name": "stdout"
        }
      ]
    },
    {
      "cell_type": "code",
      "metadata": {
        "colab": {
          "base_uri": "https://localhost:8080/",
          "height": 613
        },
        "id": "K7NgOBzqdf9s",
        "outputId": "eb3e94ad-bedf-4b15-a2a5-c96fb792aab3"
      },
      "source": [
        "tf.keras.backend.clear_session()\n",
        "\n",
        "model_gru = tf.keras.Sequential([\n",
        "    tf.keras.layers.Embedding(vocab_size, 50, input_length=max_length),\n",
        "    tf.keras.layers.Bidirectional(tf.keras.layers.GRU(64)),\n",
        "    tf.keras.layers.Dense(1, activation='sigmoid')\n",
        "])\n",
        "\n",
        "model_gru.compile(loss='binary_crossentropy',\n",
        "                  optimizer='adam',\n",
        "                  metrics=['accuracy'])\n",
        "\n",
        "gru_history, gru_preds = fit_model(model_gru, return_preds = True)"
      ],
      "execution_count": 23,
      "outputs": [
        {
          "output_type": "stream",
          "text": [
            "Model: \"sequential\"\n",
            "_________________________________________________________________\n",
            "Layer (type)                 Output Shape              Param #   \n",
            "=================================================================\n",
            "embedding (Embedding)        (None, 250, 50)           2500000   \n",
            "_________________________________________________________________\n",
            "bidirectional (Bidirectional (None, 128)               44544     \n",
            "_________________________________________________________________\n",
            "dense (Dense)                (None, 1)                 129       \n",
            "=================================================================\n",
            "Total params: 2,544,673\n",
            "Trainable params: 2,544,673\n",
            "Non-trainable params: 0\n",
            "_________________________________________________________________\n"
          ],
          "name": "stdout"
        },
        {
          "output_type": "display_data",
          "data": {
            "image/png": "[encoded data removed]",
            "text/plain": [
              "<Figure size 720x360 with 2 Axes>"
            ]
          },
          "metadata": {
            "tags": [],
            "needs_background": "light"
          }
        },
        {
          "output_type": "stream",
          "text": [
            "157/157 [==============================] - 1s 9ms/step - loss: 0.2855 - accuracy: 0.8838\n",
            "The accuracy of this model on the unseen test set is 0.8838\n"
          ],
          "name": "stdout"
        }
      ]
    },
    {
      "cell_type": "code",
      "metadata": {
        "colab": {
          "base_uri": "https://localhost:8080/"
        },
        "id": "HboxcGinm1uz",
        "outputId": "88b731ac-a7fd-4c8f-e929-91536342d1fb"
      },
      "source": [
        "print_incorrect_preds(gru_preds, test_labels)"
      ],
      "execution_count": 24,
      "outputs": [
        {
          "output_type": "stream",
          "text": [
            "The following review is predicted to be 0, but it is 1\n",
            "david \"master of debonair\" niven plays the big boss (ivan) who preys upon the unfortunate richard jordan (pinky) by forcing the hapless ex-con to exploit his ill-found new position in a bank. elke sommer (miss pelham) most effectively provides the female interest, whom pinkie cannot simply cannot resist.it seems they were unable to decide on one name for this film so instead they used four .... makes sense ???sadly, this turn out to be one of niven's last roles.overall, this film is fun and well worth watching if you manage to catch one of its rare or late night tv screenings.\n",
            "\n",
            "The following review is predicted to be 1, but it is 0\n",
            "a brilliant professor and his sidekick journey to the center of the earth in a huge machine which screws its way to the core. there, naturally, they find all kinds of things that are intent on killing and eating them. plus, of course, a love interest for the young sidekick. ho hum, does the plot never take a different tack?\n",
            "\n",
            "The following review is predicted to be 0, but it is 1\n",
            "it's a sad state in corporate hollywood when a movie surprises you by not taking routes you've been seeing in the movie house since day one. i had literally no idea how this film was going to end, because it went left when i expected it to go right, zigged when i expected a zag, etc. this could have easily unraveled into generic suspense thriller, or depressing white trash drama, but it stayed a course all its own till the end. it is a sad story, though. not because of what happens to alice, but because of the sad world that surrounds her and leads her down this path.the plot has a quiet dignity of form that's usually reserved for theater, but the pacing could use some tightening up. either way, it's a very good film, and for some reason i suspect sour grapes from those who have scored this one low.\n",
            "\n",
            "The following review is predicted to be 1, but it is 0\n",
            "a group of young filmmakers with virtually no budget set out to make something clever and original -- and while there is a bit of originality and some skilled drawing in this slacker puppet show take on \"dante's inferno,\" there is nothing especially clever. dante's \"divine comedy\" was a brilliant piece of social commentary. this film is a vaguely moralistic student film with pretensions to high art.i suspect those who loved this film were those readily amused by the sophomoric pokes at some icons of the political and/or religious right, and that those who hated it took offense at seeing their favored icons poked. be that as it may, few of those pokes actually rose to the level of satire.the high point of the movie is a sudden outbreak of \"schoolhouse rock\" on the subject of lobbying and the \"revolving door.\" it's really a shame that the entire film couldn't have been a musical. that would have stripped away a great deal of the annoying film school pretentiousness and added a far stronger element of fun.\n",
            "\n",
            "The following review is predicted to be 1, but it is 0\n",
            "it's the best film that takes the first place at the sickest and an useful films ever made in this poor country. really u people even don't know what the word cinema means and u cast votes for movies, i'm really curious to know how many movies of p.p.p. or l.bunuel have u seen. the score of this \"faield experiment\" it reflects a lot of u're way of understanding things and to recognize a good/quality movie when u see it. we the romanian people have only one movie and until this day the status hasn't change & that movie is \"padurea spanzuratilor\". but i don't lose my time thinking how many of you have seen it. that is a movie that respects all the required quality's's of an movie. from the script to the frames and even to the quality/clarity of the picture even are past over him 41 years. i recommend to the voters to search for better movies and then vote. kudos will see u later .\n",
            "\n"
          ],
          "name": "stdout"
        }
      ]
    },
    {
      "cell_type": "code",
      "metadata": {
        "colab": {
          "base_uri": "https://localhost:8080/",
          "height": 613
        },
        "id": "DvgqSakUmwmd",
        "outputId": "d4805eef-716a-47a6-ac43-8a449f70c550"
      },
      "source": [
        "tf.keras.backend.clear_session()\n",
        "\n",
        "model_lstm = tf.keras.Sequential([\n",
        "    tf.keras.layers.Embedding(vocab_size, 50, input_length=max_length),\n",
        "    tf.keras.layers.Bidirectional(tf.keras.layers.LSTM(64)), \n",
        "    tf.keras.layers.Dense(1, activation='sigmoid')\n",
        "])\n",
        "\n",
        "model_lstm.compile(loss='binary_crossentropy',\n",
        "                        optimizer='adam',\n",
        "                        metrics=['accuracy'])\n",
        "\n",
        "lstm_history, lstm_preds = fit_model(model_lstm, return_preds = True)"
      ],
      "execution_count": 25,
      "outputs": [
        {
          "output_type": "stream",
          "text": [
            "Model: \"sequential\"\n",
            "_________________________________________________________________\n",
            "Layer (type)                 Output Shape              Param #   \n",
            "=================================================================\n",
            "embedding (Embedding)        (None, 250, 50)           2500000   \n",
            "_________________________________________________________________\n",
            "bidirectional (Bidirectional (None, 128)               58880     \n",
            "_________________________________________________________________\n",
            "dense (Dense)                (None, 1)                 129       \n",
            "=================================================================\n",
            "Total params: 2,559,009\n",
            "Trainable params: 2,559,009\n",
            "Non-trainable params: 0\n",
            "_________________________________________________________________\n"
          ],
          "name": "stdout"
        },
        {
          "output_type": "display_data",
          "data": {
            "image/png": "[encoded data removed]",
            "text/plain": [
              "<Figure size 720x360 with 2 Axes>"
            ]
          },
          "metadata": {
            "tags": [],
            "needs_background": "light"
          }
        },
        {
          "output_type": "stream",
          "text": [
            "157/157 [==============================] - 2s 10ms/step - loss: 0.2897 - accuracy: 0.8810\n",
            "The accuracy of this model on the unseen test set is 0.881\n"
          ],
          "name": "stdout"
        }
      ]
    },
    {
      "cell_type": "code",
      "metadata": {
        "colab": {
          "base_uri": "https://localhost:8080/"
        },
        "id": "np4IDcgwmrtP",
        "outputId": "8c8d3765-c05c-4de0-e39d-7e3c69f674ad"
      },
      "source": [
        "print_incorrect_preds(lstm_preds, test_labels)"
      ],
      "execution_count": 26,
      "outputs": [
        {
          "output_type": "stream",
          "text": [
            "The following review is predicted to be 0, but it is 1\n",
            "having recently seen grindhouse, i was browsing in video usa looking for some movies that might have played in real grindhouse theatres in downtown areas during the '70s. the hong kong action flick five fingers of death seemed just such a picture. the cartoon-like sound effects and the quick jump cuts seemed a little distracting at first but after a while i was so involved in the story and the characters i didn't care. parts of the music score sounded like the \"ironside\" tv theme song that was subsequently used in quentin tarantino's kill bill movies. some scenes involving the hero's fiancé seemed to border on parody but they were so brief that they didn't ruin the film. the most exciting parts involve the tournament and some revenge segments after that. well worth seeing for kung fu fans!\n",
            "\n",
            "The following review is predicted to be 0, but it is 1\n",
            "***spoilers*** ***spoilers*** wow, what a predicament joanna has found herself in. after accidentally running over a young child, she goes to call for help, only to return to the crime scene amidst a group of very angry onlookers. understanda- bly, this is too much for her to handle, and she flees the scene. luckily the child didn't die, but is seriously injured and in a coma. so starts the biggest struggle in joanna's life: should she keep quiet or speak up? at first she doesn't, but eventually she realises that it's torture living with such a horrible secret.at one point she even joins a search party to help find the culprit. and gradually a detective starts to question this woman's behavior. she wants to tell the truth, and she never meant to run away from the crime scene, but is it worth telling and having the whole town hate you for it?the thing about this movie is that you don't choose sides. joanna is very much a good role model, even though she's made some wrong choices. you feel for her, even though you know what she did was wrong. her journey is a good representation of what any human being would go through if something like this were to happen to them.margaret colin is an absolutely brilliant actress. she was amazing in the tv series now and again and great in films like independence day and the devil's own. her performance here is so realistic and unforced that she carries us singlehandedly through the entire film. in the end, i wanted to see more of her. lisa vidal also provided some good supporting work as the gentle, resourceful detective.to wrap it up, if you wanna see a movie that will make you think long afterwards, one that will say \"this is reality\", then you won't want to miss this one.my rating: 9/10\n",
            "\n",
            "The following review is predicted to be 1, but it is 0\n",
            "a brilliant professor and his sidekick journey to the center of the earth in a huge machine which screws its way to the core. there, naturally, they find all kinds of things that are intent on killing and eating them. plus, of course, a love interest for the young sidekick. ho hum, does the plot never take a different tack?\n",
            "\n",
            "The following review is predicted to be 0, but it is 1\n",
            "it's a sad state in corporate hollywood when a movie surprises you by not taking routes you've been seeing in the movie house since day one. i had literally no idea how this film was going to end, because it went left when i expected it to go right, zigged when i expected a zag, etc. this could have easily unraveled into generic suspense thriller, or depressing white trash drama, but it stayed a course all its own till the end. it is a sad story, though. not because of what happens to alice, but because of the sad world that surrounds her and leads her down this path.the plot has a quiet dignity of form that's usually reserved for theater, but the pacing could use some tightening up. either way, it's a very good film, and for some reason i suspect sour grapes from those who have scored this one low.\n",
            "\n",
            "The following review is predicted to be 1, but it is 0\n",
            "in 1967 i saw an outstanding musical at the wintergarden in new york city where angela lansbury lite the stage as mame. but did hollywood give her the lead ???? no lucille ball great as lucy was given the role. she killed the film. what a mistake there was no chemistry as there was on the stage bea arthur and angela what a twosome when they sang.. it is too bad a producer does not put these two together even today\n",
            "\n"
          ],
          "name": "stdout"
        }
      ]
    },
    {
      "cell_type": "code",
      "metadata": {
        "colab": {
          "base_uri": "https://localhost:8080/",
          "height": 752
        },
        "id": "QHMXpEh1NYRv",
        "outputId": "afb49f8b-e7e6-4c96-932f-db281dafcbe1"
      },
      "source": [
        "tf.keras.backend.clear_session()\n",
        "\n",
        "hybrid_model = tf.keras.Sequential([\n",
        "    tf.keras.layers.Embedding(vocab_size, 50, input_length=max_length),\n",
        "    tf.keras.layers.Conv1D(32, 8, activation='relu'),\n",
        "    tf.keras.layers.MaxPooling1D(pool_size = 4, strides = 2),\n",
        "    tf.keras.layers.Bidirectional(tf.keras.layers.LSTM(32)),\n",
        "    tf.keras.layers.Dense(1, activation='sigmoid')\n",
        "])\n",
        "\n",
        "hybrid_model.compile(loss='binary_crossentropy',\n",
        "                  optimizer='adam', \n",
        "                  metrics=['accuracy'])\n",
        "hybrid_history, hybrid_preds = fit_model(model_cnn, return_preds = True)"
      ],
      "execution_count": 27,
      "outputs": [
        {
          "output_type": "stream",
          "text": [
            "Model: \"sequential\"\n",
            "_________________________________________________________________\n",
            "Layer (type)                 Output Shape              Param #   \n",
            "=================================================================\n",
            "embedding (Embedding)        (None, 250, 25)           1250000   \n",
            "_________________________________________________________________\n",
            "conv1d (Conv1D)              (None, 244, 32)           5632      \n",
            "_________________________________________________________________\n",
            "max_pooling1d (MaxPooling1D) (None, 121, 32)           0         \n",
            "_________________________________________________________________\n",
            "flatten (Flatten)            (None, 3872)              0         \n",
            "_________________________________________________________________\n",
            "dropout (Dropout)            (None, 3872)              0         \n",
            "_________________________________________________________________\n",
            "dense (Dense)                (None, 10)                38730     \n",
            "_________________________________________________________________\n",
            "dense_1 (Dense)              (None, 1)                 11        \n",
            "=================================================================\n",
            "Total params: 1,294,373\n",
            "Trainable params: 1,294,373\n",
            "Non-trainable params: 0\n",
            "_________________________________________________________________\n"
          ],
          "name": "stdout"
        },
        {
          "output_type": "display_data",
          "data": {
            "image/png": "[encoded data removed]",
            "text/plain": [
              "<Figure size 720x360 with 2 Axes>"
            ]
          },
          "metadata": {
            "tags": [],
            "needs_background": "light"
          }
        },
        {
          "output_type": "stream",
          "text": [
            "157/157 [==============================] - 0s 2ms/step - loss: 0.2608 - accuracy: 0.8894\n",
            "The accuracy of this model on the unseen test set is 0.8894\n"
          ],
          "name": "stdout"
        }
      ]
    },
    {
      "cell_type": "markdown",
      "metadata": {
        "id": "T1fhVWw5hFOX"
      },
      "source": [
        "If we want to use these models to predict sentiment on new reviews, we need to put those reviews into a list and we need to process (tokenize and pad) the reviews "
      ]
    },
    {
      "cell_type": "code",
      "metadata": {
        "id": "dvJ8HXKYuZFc"
      },
      "source": [
        "new_revs = ['this movie was really bad. I hated it and it might be the worst thing ever',\n",
        "            'Oh boy it was too long and it was far from the best',\n",
        "            'Boy and girl meet and fall in love. They go out on dates and eat food. If you like romance, then you will like this movie. It was excellent',\n",
        "            'I expected this movie to be really bad, but I was pleasantly surprised. The movie is a little too long and some of the jokes are bad, but overall it was good.']\n",
        "\n",
        "new_revs = toke_and_pad(new_revs)"
      ],
      "execution_count": 28,
      "outputs": []
    },
    {
      "cell_type": "code",
      "metadata": {
        "colab": {
          "base_uri": "https://localhost:8080/"
        },
        "id": "ITbkAQsyjeFh",
        "outputId": "2a2561cd-e9f5-4c94-eddc-481df11d58ff"
      },
      "source": [
        "globalMaxPool_model.predict(new_revs)"
      ],
      "execution_count": 29,
      "outputs": [
        {
          "output_type": "execute_result",
          "data": {
            "text/plain": [
              "array([[0.05070204],\n",
              "       [0.37343082],\n",
              "       [0.74314916],\n",
              "       [0.57736444]], dtype=float32)"
            ]
          },
          "metadata": {
            "tags": []
          },
          "execution_count": 29
        }
      ]
    },
    {
      "cell_type": "code",
      "metadata": {
        "colab": {
          "base_uri": "https://localhost:8080/"
        },
        "id": "Ou7U7yKmjhGo",
        "outputId": "a587f4f2-da20-4878-cdb5-4a61f14936b7"
      },
      "source": [
        "model_cnn.predict(new_revs)"
      ],
      "execution_count": 30,
      "outputs": [
        {
          "output_type": "execute_result",
          "data": {
            "text/plain": [
              "array([[0.01122269],\n",
              "       [0.4525792 ],\n",
              "       [0.8942459 ],\n",
              "       [0.5825435 ]], dtype=float32)"
            ]
          },
          "metadata": {
            "tags": []
          },
          "execution_count": 30
        }
      ]
    },
    {
      "cell_type": "code",
      "metadata": {
        "colab": {
          "base_uri": "https://localhost:8080/"
        },
        "id": "1vKVcBANm8vz",
        "outputId": "deaca79c-fbc9-47d1-ca1c-c6f86aefb508"
      },
      "source": [
        "model_gru.predict(new_revs)"
      ],
      "execution_count": 31,
      "outputs": [
        {
          "output_type": "execute_result",
          "data": {
            "text/plain": [
              "array([[0.03471078],\n",
              "       [0.540851  ],\n",
              "       [0.93670803],\n",
              "       [0.7728298 ]], dtype=float32)"
            ]
          },
          "metadata": {
            "tags": []
          },
          "execution_count": 31
        }
      ]
    },
    {
      "cell_type": "code",
      "metadata": {
        "colab": {
          "base_uri": "https://localhost:8080/"
        },
        "id": "1dIm83lnnAGY",
        "outputId": "877f608f-7548-429c-872c-730ab75d3f27"
      },
      "source": [
        "model_lstm.predict(new_revs)"
      ],
      "execution_count": 32,
      "outputs": [
        {
          "output_type": "execute_result",
          "data": {
            "text/plain": [
              "array([[0.02064683],\n",
              "       [0.4793361 ],\n",
              "       [0.7861748 ],\n",
              "       [0.7808129 ]], dtype=float32)"
            ]
          },
          "metadata": {
            "tags": []
          },
          "execution_count": 32
        }
      ]
    },
    {
      "cell_type": "code",
      "metadata": {
        "colab": {
          "base_uri": "https://localhost:8080/"
        },
        "id": "kOFLDFb0gfjS",
        "outputId": "22b43c34-fb82-45ce-d8ff-832653a16837"
      },
      "source": [
        "hybrid_model.predict(new_revs)"
      ],
      "execution_count": 33,
      "outputs": [
        {
          "output_type": "execute_result",
          "data": {
            "text/plain": [
              "array([[0.5038468 ],\n",
              "       [0.50312513],\n",
              "       [0.5066057 ],\n",
              "       [0.5060672 ]], dtype=float32)"
            ]
          },
          "metadata": {
            "tags": []
          },
          "execution_count": 33
        }
      ]
    }
  ]
}