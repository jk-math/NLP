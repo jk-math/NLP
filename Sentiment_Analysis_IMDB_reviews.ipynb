{
  "nbformat": 4,
  "nbformat_minor": 0,
  "metadata": {
    "colab": {
      "name": "Sentiment_Analysis_IMDB_reviews.ipynb",
      "provenance": [],
      "collapsed_sections": [],
      "authorship_tag": "ABX9TyNGCaEEXp7LuSbfHj1vGjus"
    },
    "kernelspec": {
      "name": "python3",
      "display_name": "Python 3"
    },
    "accelerator": "GPU"
  },
  "cells": [
    {
      "cell_type": "code",
      "metadata": {
        "id": "ds4k7qTi0pN6"
      },
      "source": [
        "import tensorflow as tf\n",
        "import numpy as np\n",
        "import tensorflow_datasets as tfds\n",
        "import pandas as pd\n",
        "import random\n",
        "import matplotlib.pyplot as plt\n",
        "import os\n",
        "import io"
      ],
      "execution_count": 1,
      "outputs": []
    },
    {
      "cell_type": "markdown",
      "metadata": {
        "id": "XJ48FC985Age"
      },
      "source": [
        "## Downloading and preprocessing the data\n",
        "\n",
        "\n",
        "\n"
      ]
    },
    {
      "cell_type": "markdown",
      "metadata": {
        "id": "PH4BpjApJbAJ"
      },
      "source": [
        "Download the IMDB Reviews raw data"
      ]
    },
    {
      "cell_type": "code",
      "metadata": {
        "id": "GKIusIbbCI34"
      },
      "source": [
        "import urllib.request\n",
        "import tarfile\n",
        "thetarfile = \"https://ai.stanford.edu/~amaas/data/sentiment/aclImdb_v1.tar.gz\"\n",
        "ftpstream = urllib.request.urlopen(thetarfile)\n",
        "thetarfile = tarfile.open(fileobj=ftpstream, mode=\"r|gz\")\n",
        "thetarfile.extractall()"
      ],
      "execution_count": 2,
      "outputs": []
    },
    {
      "cell_type": "markdown",
      "metadata": {
        "id": "NwENJy6HJgD9"
      },
      "source": [
        "Get the file paths for all of the reviews so that we can read the reviews from each text file and put them together into one large dataset"
      ]
    },
    {
      "cell_type": "code",
      "metadata": {
        "id": "6-Qscffh5tor",
        "colab": {
          "base_uri": "https://localhost:8080/"
        },
        "outputId": "e389d405-4850-4ff3-bca0-a2eab8b5bfe9"
      },
      "source": [
        "# Get the file names from a particular folder\n",
        "import os             \n",
        "train_files_pos = os.listdir('./aclImdb/train/pos')\n",
        "print(train_files_pos[0:5])"
      ],
      "execution_count": 3,
      "outputs": [
        {
          "output_type": "stream",
          "text": [
            "['6662_7.txt', '11410_7.txt', '2244_9.txt', '4993_10.txt', '3806_8.txt']\n"
          ],
          "name": "stdout"
        }
      ]
    },
    {
      "cell_type": "code",
      "metadata": {
        "id": "SkV9u0HIFzM7",
        "colab": {
          "base_uri": "https://localhost:8080/"
        },
        "outputId": "4df0b14a-2967-4d93-b779-0b6951607000"
      },
      "source": [
        "# Gets the entire file path\n",
        "import glob\n",
        "train_pos_txt_files = glob.glob('./aclImdb/train/pos/*.txt')\n",
        "train_neg_txt_files = glob.glob('./aclImdb/train/neg/*.txt')\n",
        "test_pos_txt_files = glob.glob('./aclImdb/test/pos/*.txt')\n",
        "test_neg_txt_files = glob.glob('./aclImdb/test/neg/*.txt')\n",
        "print(train_pos_txt_files[0:3])\n",
        "pos_files = [train_pos_txt_files, test_pos_txt_files]\n",
        "neg_files = [train_neg_txt_files, test_neg_txt_files]"
      ],
      "execution_count": 4,
      "outputs": [
        {
          "output_type": "stream",
          "text": [
            "['./aclImdb/train/pos/6662_7.txt', './aclImdb/train/pos/11410_7.txt', './aclImdb/train/pos/2244_9.txt']\n"
          ],
          "name": "stdout"
        }
      ]
    },
    {
      "cell_type": "markdown",
      "metadata": {
        "id": "t4f7fiUqJrZs"
      },
      "source": [
        "The reviews contain HTML tags, so we remove them"
      ]
    },
    {
      "cell_type": "code",
      "metadata": {
        "id": "uq2REuBRIcJy"
      },
      "source": [
        "import re\n",
        "\n",
        "def clean_html(raw_html):\n",
        "  cleanr = re.compile('<.*?>')\n",
        "  cleantext = re.sub(cleanr, '', raw_html)\n",
        "  return cleantext.lower() # the tokenizer converts to lowercase as a default"
      ],
      "execution_count": 5,
      "outputs": []
    },
    {
      "cell_type": "markdown",
      "metadata": {
        "id": "zPmGhdma4jSO"
      },
      "source": [
        "Remove HTML tags from all reviews and store the reviews as strings in a list"
      ]
    },
    {
      "cell_type": "code",
      "metadata": {
        "id": "BKGLEsMBGI2v"
      },
      "source": [
        "pos_reviews = []\n",
        "neg_reviews = []\n",
        "for collection in pos_files:\n",
        "  for path in collection:\n",
        "    with open(path, 'r') as f:\n",
        "      pos_reviews.append(clean_html(f.read()))\n",
        "for collection in neg_files:\n",
        "  for path in collection:\n",
        "    with open(path, 'r') as f:\n",
        "      neg_reviews.append(clean_html(f.read()))"
      ],
      "execution_count": 6,
      "outputs": []
    },
    {
      "cell_type": "markdown",
      "metadata": {
        "id": "X41Wusps4rQ7"
      },
      "source": [
        "Create training, validation, and test sets"
      ]
    },
    {
      "cell_type": "code",
      "metadata": {
        "id": "A3lUj9BJL_NE"
      },
      "source": [
        "train_revs = pos_reviews[:20000] + neg_reviews[:20000]\n",
        "train_labels = [1]*20000 + [0]*20000\n",
        "valid_revs = pos_reviews[20000:22500]+neg_reviews[20000:22500]\n",
        "valid_labels = [1]*2500 + [0]*2500\n",
        "test_revs = pos_reviews[22500:]+neg_reviews[22500:]\n",
        "test_labels = [1]*2500 + [0]*2500"
      ],
      "execution_count": 7,
      "outputs": []
    },
    {
      "cell_type": "markdown",
      "metadata": {
        "id": "CUi-79_Z4wq2"
      },
      "source": [
        "Shuffle the data prior to training. We only need to shuffle the training and validation data"
      ]
    },
    {
      "cell_type": "code",
      "metadata": {
        "id": "wrzzPm4CqU1z"
      },
      "source": [
        "def shuffle_data(x,y):\n",
        "  data = list(zip(x,y))\n",
        "  random.shuffle(data)\n",
        "  return zip(*data)"
      ],
      "execution_count": 8,
      "outputs": []
    },
    {
      "cell_type": "code",
      "metadata": {
        "id": "F7A3Q_gdXPgp"
      },
      "source": [
        "train_revs, train_labels = shuffle_data(train_revs, train_labels)\n",
        "\n",
        "valid_revs, valid_labels = shuffle_data(valid_revs, valid_labels)\n",
        "\n",
        "test_revs, test_labels = shuffle_data(test_revs, test_labels)"
      ],
      "execution_count": 9,
      "outputs": []
    },
    {
      "cell_type": "markdown",
      "metadata": {
        "id": "NVDLCfcmrHW2"
      },
      "source": [
        "Tokenize and pad the reviews"
      ]
    },
    {
      "cell_type": "code",
      "metadata": {
        "id": "pJRHOWaTrRoE"
      },
      "source": [
        "# these same parameters are used in every model\n",
        "vocab_size = 20000\n",
        "max_length = 500\n",
        "trunc_type='post'\n",
        "pad_type='post'\n",
        "oov_tok = \"<OOV>\"\n",
        "\n",
        "from tensorflow.keras.preprocessing.text import Tokenizer\n",
        "from tensorflow.keras.preprocessing.sequence import pad_sequences\n",
        "\n",
        "tokenizer = Tokenizer(num_words = vocab_size, oov_token=oov_tok)\n",
        "tokenizer.fit_on_texts(train_revs)\n",
        "word_index = tokenizer.word_index\n",
        "\n",
        "# switch key, value for the word index so that we can use the token (number) as the key\n",
        "# look up the corresponding word\n",
        "word_index = dict([(value,key) for key, value in word_index.items()])"
      ],
      "execution_count": 10,
      "outputs": []
    },
    {
      "cell_type": "code",
      "metadata": {
        "id": "f38Yv256T8jA"
      },
      "source": [
        "def toke_and_pad(sentences, max_len = 500, trunc_type = 'post', pad_type = 'post'):\n",
        "  tokenized = tokenizer.texts_to_sequences(sentences)\n",
        "  tokenized_and_padded = pad_sequences(tokenized, maxlen=max_len, truncating=trunc_type, padding=pad_type)\n",
        "  return tokenized_and_padded"
      ],
      "execution_count": 11,
      "outputs": []
    },
    {
      "cell_type": "code",
      "metadata": {
        "id": "T8IGRVnnaMtv"
      },
      "source": [
        "# Pad the sequences so that they are all the same length\n",
        "x_train = toke_and_pad(train_revs)\n",
        "x_valid = toke_and_pad(valid_revs)\n",
        "x_test = toke_and_pad(test_revs)\n",
        "\n",
        "train_labels = np.array(train_labels)\n",
        "valid_labels = np.array(valid_labels)\n",
        "test_labels = np.array(test_labels)"
      ],
      "execution_count": 12,
      "outputs": []
    },
    {
      "cell_type": "markdown",
      "metadata": {
        "id": "NhnBHQIQVSIh"
      },
      "source": [
        "Create Tensorflow Dataset and batch the data for quicker training"
      ]
    },
    {
      "cell_type": "code",
      "metadata": {
        "id": "zytaKYu_unBa"
      },
      "source": [
        "train = tf.data.Dataset.from_tensor_slices((x_train, train_labels)) \n",
        "valid = tf.data.Dataset.from_tensor_slices((x_valid, valid_labels))\n",
        "test = tf.data.Dataset.from_tensor_slices((x_test, test_labels))"
      ],
      "execution_count": 13,
      "outputs": []
    },
    {
      "cell_type": "code",
      "metadata": {
        "id": "onGHtZ5HyOim"
      },
      "source": [
        "train = train.shuffle(50000).batch(128).prefetch(1)\n",
        "valid = valid.shuffle(50000).batch(128).prefetch(1)"
      ],
      "execution_count": 14,
      "outputs": []
    },
    {
      "cell_type": "markdown",
      "metadata": {
        "id": "JKb-qg-hVafc"
      },
      "source": [
        "## Define functions for training"
      ]
    },
    {
      "cell_type": "code",
      "metadata": {
        "id": "pPPOg4HeVpKH"
      },
      "source": [
        "def plot_training_metrics(history):\n",
        "\n",
        "  loss = history.history['loss']\n",
        "  val_loss = history.history['val_loss']\n",
        "\n",
        "  acc = history.history['accuracy']\n",
        "  val_acc = history.history['val_accuracy']\n",
        "\n",
        "  epochs_range = range(len(loss))\n",
        "\n",
        "  plt.figure(figsize=(10, 5))\n",
        "  plt.subplot(1, 2, 1)\n",
        "  plt.plot(epochs_range, acc, label='Training Acc')\n",
        "  plt.plot(epochs_range, val_acc, label='Validation Acc')\n",
        "  plt.legend(loc='lower right')\n",
        "  plt.title('Training and Validation Acc')\n",
        "\n",
        "  plt.subplot(1, 2, 2)\n",
        "  plt.plot(epochs_range, loss, label='Training Loss')\n",
        "  plt.plot(epochs_range, val_loss, label='Validation Loss')\n",
        "  plt.legend(loc='upper right')\n",
        "  plt.title('Training and Validation Loss')\n",
        "  plt.show()\n",
        "  plt.close()"
      ],
      "execution_count": 15,
      "outputs": []
    },
    {
      "cell_type": "code",
      "metadata": {
        "id": "gFc0VtJTWM-N"
      },
      "source": [
        "def get_embed_visual_files(model):\n",
        "  # First get the weights of the embedding layer\n",
        "  e = model.layers[0]\n",
        "  weights = e.get_weights()[0]\n",
        "  print(weights.shape) # shape: (vocab_size, embedding_dim)\n",
        "\n",
        "  # Write out the embedding vectors and metadata\n",
        "  out_v = io.open('vecs.tsv', 'w', encoding='utf-8')\n",
        "  out_m = io.open('meta.tsv', 'w', encoding='utf-8')\n",
        "  for word_num in range(1, vocab_size):\n",
        "    word = word_index[word_num]\n",
        "    embeddings = weights[word_num]\n",
        "    out_m.write(word + \"\\n\")\n",
        "    out_v.write('\\t'.join([str(x) for x in embeddings]) + \"\\n\")\n",
        "  out_v.close()\n",
        "  out_m.close()\n",
        "\n",
        "  # Download the files\n",
        "  try:\n",
        "    from google.colab import files\n",
        "  except ImportError:\n",
        "    pass\n",
        "  else:\n",
        "    files.download('vecs.tsv')\n",
        "    files.download('meta.tsv')"
      ],
      "execution_count": 16,
      "outputs": []
    },
    {
      "cell_type": "code",
      "metadata": {
        "id": "54O4B6NIW9Dc"
      },
      "source": [
        "def fit_model(model, return_preds = False, num_epochs = 100): # input a compiled model\n",
        "  # the input_dim and the input_length of the embedding layer\n",
        "  # must match the vocab size and max length parameters of the Tokenizer, respectively\n",
        "  # the same training, validation, and test sets are used\n",
        "  early_stop = tf.keras.callbacks.EarlyStopping(monitor = 'val_accuracy', \n",
        "                                              restore_best_weights = True, patience = 5)\n",
        "  # check_point = tf.keras.callbacks.ModelCheckpoint('model_checkpoint', monitor = 'val_accuracy', save_weights_only = True, save_freq = 'epoch')\n",
        "  model.summary()\n",
        "  history = model.fit(train, \n",
        "          epochs=num_epochs, \n",
        "          validation_data=valid,\n",
        "          callbacks = [early_stop],\n",
        "          verbose = 0) # early stopping will be used in training every model\n",
        "  plot_training_metrics(history)\n",
        "  test_acc = model.evaluate(x_test, test_labels)\n",
        "  print('The accuracy of this model on the unseen test set is {}'.format(round(test_acc[1],4)))\n",
        "  if return_preds == True:\n",
        "    pred_proba = model.predict(x_test)\n",
        "    pred_labels = [0 if p < 0.5 else 1 for p in pred_proba]\n",
        "    return history, pred_labels\n",
        "  else:\n",
        "    return history"
      ],
      "execution_count": 17,
      "outputs": []
    },
    {
      "cell_type": "code",
      "metadata": {
        "id": "eWp5FNb_Z0F7"
      },
      "source": [
        "def print_incorrect_preds(pred_labels, true_labels, num=5): # print some of the reviews which are incorrectly classified by a model\n",
        "  j = 0\n",
        "  for i in range(len(pred_labels)):\n",
        "    if j < num:\n",
        "      if pred_labels[i] == test_labels[i]:\n",
        "        continue\n",
        "      else:\n",
        "        j += 1\n",
        "        print('The following review is predicted to be {}, but it is {}'.format(pred_labels[i], test_labels[i]))\n",
        "        print((test_revs[i]))\n",
        "        print()"
      ],
      "execution_count": 18,
      "outputs": []
    },
    {
      "cell_type": "code",
      "metadata": {
        "colab": {
          "base_uri": "https://localhost:8080/",
          "height": 648
        },
        "id": "MHbeV0vkdc9c",
        "outputId": "a9a3b93f-7c81-4012-92f6-d757ee2eead5"
      },
      "source": [
        "tf.keras.backend.clear_session()\n",
        "embedding_dim = 128\n",
        "embedding_model = tf.keras.Sequential([\n",
        "    tf.keras.layers.Embedding(vocab_size, embedding_dim, input_length=max_length),\n",
        "    tf.keras.layers.GlobalMaxPooling1D(),\n",
        "    tf.keras.layers.Dense(16, activation='relu'),\n",
        "    tf.keras.layers.Dense(1, activation = 'sigmoid')\n",
        "])\n",
        "embedding_model.compile(loss='binary_crossentropy',\n",
        "              optimizer='adam',metrics=['accuracy'])\n",
        "\n",
        "embedding_history, embed_preds = fit_model(embedding_model,return_preds = True)"
      ],
      "execution_count": 19,
      "outputs": [
        {
          "output_type": "stream",
          "text": [
            "Model: \"sequential\"\n",
            "_________________________________________________________________\n",
            "Layer (type)                 Output Shape              Param #   \n",
            "=================================================================\n",
            "embedding (Embedding)        (None, 500, 128)          2560000   \n",
            "_________________________________________________________________\n",
            "global_max_pooling1d (Global (None, 128)               0         \n",
            "_________________________________________________________________\n",
            "dense (Dense)                (None, 16)                2064      \n",
            "_________________________________________________________________\n",
            "dense_1 (Dense)              (None, 1)                 17        \n",
            "=================================================================\n",
            "Total params: 2,562,081\n",
            "Trainable params: 2,562,081\n",
            "Non-trainable params: 0\n",
            "_________________________________________________________________\n"
          ],
          "name": "stdout"
        },
        {
          "output_type": "display_data",
          "data": {
            "image/png": "[encoded data removed]",
            "text/plain": [
              "<Figure size 720x360 with 2 Axes>"
            ]
          },
          "metadata": {
            "tags": [],
            "needs_background": "light"
          }
        },
        {
          "output_type": "stream",
          "text": [
            "157/157 [==============================] - 1s 3ms/step - loss: 0.2606 - accuracy: 0.9038\n",
            "The accuracy of this model on the unseen test set is 0.9038\n"
          ],
          "name": "stdout"
        }
      ]
    },
    {
      "cell_type": "code",
      "metadata": {
        "colab": {
          "base_uri": "https://localhost:8080/"
        },
        "id": "JNZjOAcFmZQm",
        "outputId": "7e221bf4-0135-4c19-f813-239ce83a367f"
      },
      "source": [
        "print_incorrect_preds(embed_preds, test_labels)"
      ],
      "execution_count": 20,
      "outputs": [
        {
          "output_type": "stream",
          "text": [
            "The following review is predicted to be 0, but it is 1\n",
            "a bunch of mostly obnoxious and grossly unappealing teens go to a creepy, remote, rundown old mortuary located nearby a cemetery to attend an anything-goes all-out halloween party being hosted by freaky occult-obsessed oddball mimi kinkade and her vacuous, boy-hungry bimbette friend linnea quigley. the loutish, profane, beer-guzzling, sex-happy dipstick dimwits hold a séance as a joke (very bad idea, 'cause the desolate old dive is naturally said to be haunted by demonic spirits). of course, that ill-advised séance awakens those decidedly grumpy and hostile evil spirits, who gruesomely kill and possess a majority of the kids, turning them into ugly, fanged, clawed, boil-faced murderous ghouls who wreak the usual grisly havoc throughout the duration of an especially long, dark and harrowing night of pure terror.yep, this is essentially your umpteenth vigorously graphic and unrelenting wall-to-wall cheap shock-ridden \"evil dead\" rehash, replete with closed-off, there's no easy way out claustrophobic single self-confined setting, outrageously excessive splatter set pieces, an incessantly pounding hum'n'shiver synthesizer score, a total sense of gloom'n'doom-laden grim nightmarishness, and vibrantly in-your-face manic careening cinematography (the expected headlong rush-inducing hyperactive hand-held camera-work, smooth, sinuous tracking shots, crazily tittled camera angles, even the camera on a dolly doing a gracefully gliding 180 degree figure eight). fortunately, kevin s. tenney's slick, assured, stylish direction keeps the extremely threadbare and derivative proceedings thundering along at a speedy clip; moreover, tenny gives the film an attractive polished look and effectively creates a certain crudely energetic and enthusiastically grotesque spooky ooga-booga carnival funhouse atmosphere.however, steve johnson's marvelously gory and imaginative make-up effects are the true star of the show. bloodthirsty highlights include disgusting fat slob hal havins (who played a similarly irritating obese a**hole role in the immortal \"sorority babes in the slimeball bowl-a-rama\" around the same time) having his tongue bitten off, quigley shoving a whole tube of lipstick in one of her breasts (yow!) and gouging a guy's eyes out while she's making love to him (double yow!), a libidinous teen couple getting offed while doing exactly what you think in a coffin (the chick has her neck snapped while the dude has his arm chopped off), kinkade setting her hands on fire, and, in the film's single most nasty scene, a mean old man has his throat slit from the inside out after eating an apple piece laced with razor blades. the trashy'n'thrashy rock score likewise smokes. and then there's kinkade's incredibly wild, sexy and uninhibited demon dance, a sizzling number accompanied by a flickering strobe light and startling jump cuts that kinkade choreographed herself. okay, so this overall doesn't amount to anything more than a completely mindless and pointless, albeit quite nicely mounted and enjoyably vulgar hunk of blithely sleazy fright flick junk, but if you're in the mood for entertainingly brain-dead lowbrow horror scuzziness this cheerfully crass and juvenile dross does the trick just fine.\n",
            "\n",
            "The following review is predicted to be 0, but it is 1\n",
            "i for one was very anxious to watch this movie.though i knew it was going to be another type of movie in the style of revenge of the nerds, i was still impressed.there is plenty of truth to the fact of this type of learning and believe very strongly that it should be allowed in a \"new style of schooling\".conventional teaching methods do not always teach students what they need to know or should know or want to know.this approach to teaching should be further sought out in true academic courses.while there still was too much of the partying scenes, it obviously had to be thrown in there - for hollywood's sake of making a comedy about college...even though we all know that life isn't really like that by any means.a touch unbelievable, still funny and with a killer ending.awesome ending. crucial to the entire story and very surprising.without the final scene, the movie would have been half as good.i liked this movie and it didn't have to have overly amounts of swearing or nudity or gross out jokes for it to be good.great crew and cast, story and even the generic typecasting of the obligatory \"hampton frat members\" was well done.american pie 1, 2 3 and american wedding or whatever clones it makes doers not measure up to this by 1/3.far better than most comedies about first year college with no demeaning stupid jokes to make somebody throw up with.i liked it, even though it was simple...it was interesting and even had heart...my only regret for watching this movie is that it wasn't longer.\n",
            "\n",
            "The following review is predicted to be 1, but it is 0\n",
            "earth has been destroyed in a nuclear holocaust. well, parts of the earth, because somewhere in italy, a band of purebred survivors--those without radioactive contamination--are holed up in a massive mansion surrounded by lush grounds, waiting for the next opportunity to go hunting for those with polluted blood. the final executioner is the story of one of their would be victims, alan (william mang, who looks, not surprisingly, a lot like kurt russell), and his efforts to take down the legally sanctioned hunters, who are led by edra (marina costa) and erasmus (harrison muller jr. ). alan has been trained to kill by former nypd cop sam (woody strode) who mostly hangs around giving his pupil moral support and mooching for tinned meat. strode is by far the best thing about the film, though he doesn't look at all well and only appears for about a third of the running time. as for the story, it's a blending of elements from better films and stories, including ten little indians, the most dangerous game, and escape from new york. the final executioner moves along at a fair pace and provides reasonable entertainment for less discriminate action fans.\n",
            "\n",
            "The following review is predicted to be 0, but it is 1\n",
            "it looks b grade and you will probably think there is no reason to rent this film! but do! i expected nothing from this movie, just something to pass the time, but i was hooked from the start! two interesting premises - a bank robbery gone wrong, a million dollars missing and two girls on the road to start a new life - how will these two stories collide? just when you think you know what direction the movie is headed, it does a 180 and you are left blown away by the great twists in the plot! it has a great but unexpected ending, and you are left wanting more - always a good sign - rent it or even buy it, you will not be disappointed!\n",
            "\n",
            "The following review is predicted to be 1, but it is 0\n",
            "a young man falls in love with a princess but then has to go to battle to save her father's kingdom. while away, he accidentally kills an enchanted animal which brings a curse upon him. he becomes a beast and begins to kill even his own comrades. when nobody returns to the kingdom from the battle, the king renders the land of battle cursed and forbids anyone from going there. one day, a rebel who wishes to marry the princess decides that it's time they ventured into the cursed land to claim it for the king and the king agrees, when they reach the land the king is captured by the beast and the rebel returns home to lie to the kingdom that the king has been captured and killed. he assumes the throne and prepares to marry the princess but the night before her wedding, the princess escapes to the land to go and battle the beast herself. it is only when she gets to the cursed land that she begins to realise that her father is still alive and that the beast may not even be that evil after all. sadly, her discoveries lead her to pay the ultimate price in their revelation.\n",
            "\n"
          ],
          "name": "stdout"
        }
      ]
    },
    {
      "cell_type": "code",
      "metadata": {
        "colab": {
          "base_uri": "https://localhost:8080/",
          "height": 648
        },
        "id": "FmtbE_Lia35W",
        "outputId": "ddb8aeca-ce57-4b37-8361-1fc92434a574"
      },
      "source": [
        "tf.keras.backend.clear_session()\n",
        "\n",
        "model_cnn = tf.keras.Sequential([\n",
        "    tf.keras.layers.Embedding(vocab_size, 128, input_length=max_length),\n",
        "    tf.keras.layers.Conv1D(16, 5, activation='relu'),\n",
        "    tf.keras.layers.GlobalMaxPooling1D(),\n",
        "    tf.keras.layers.Dense(1, activation='sigmoid')\n",
        "])\n",
        "\n",
        "model_cnn.compile(loss='binary_crossentropy',\n",
        "                  optimizer='adam', \n",
        "                  metrics=['accuracy'])\n",
        "cnn_history, cnn_preds = fit_model(model_cnn, return_preds = True)"
      ],
      "execution_count": 21,
      "outputs": [
        {
          "output_type": "stream",
          "text": [
            "Model: \"sequential\"\n",
            "_________________________________________________________________\n",
            "Layer (type)                 Output Shape              Param #   \n",
            "=================================================================\n",
            "embedding (Embedding)        (None, 500, 128)          2560000   \n",
            "_________________________________________________________________\n",
            "conv1d (Conv1D)              (None, 496, 16)           10256     \n",
            "_________________________________________________________________\n",
            "global_max_pooling1d (Global (None, 16)                0         \n",
            "_________________________________________________________________\n",
            "dense (Dense)                (None, 1)                 17        \n",
            "=================================================================\n",
            "Total params: 2,570,273\n",
            "Trainable params: 2,570,273\n",
            "Non-trainable params: 0\n",
            "_________________________________________________________________\n"
          ],
          "name": "stdout"
        },
        {
          "output_type": "display_data",
          "data": {
            "image/png": "[encoded data removed]",
            "text/plain": [
              "<Figure size 720x360 with 2 Axes>"
            ]
          },
          "metadata": {
            "tags": [],
            "needs_background": "light"
          }
        },
        {
          "output_type": "stream",
          "text": [
            "157/157 [==============================] - 1s 4ms/step - loss: 0.3746 - accuracy: 0.8896\n",
            "The accuracy of this model on the unseen test set is 0.8896\n"
          ],
          "name": "stdout"
        }
      ]
    },
    {
      "cell_type": "code",
      "metadata": {
        "colab": {
          "base_uri": "https://localhost:8080/"
        },
        "id": "LDtW1Scdmmcc",
        "outputId": "1b3adbe6-db08-450f-84d9-5b7e360d9dc2"
      },
      "source": [
        "print_incorrect_preds(cnn_preds, test_labels)"
      ],
      "execution_count": 22,
      "outputs": [
        {
          "output_type": "stream",
          "text": [
            "The following review is predicted to be 0, but it is 1\n",
            "a bunch of mostly obnoxious and grossly unappealing teens go to a creepy, remote, rundown old mortuary located nearby a cemetery to attend an anything-goes all-out halloween party being hosted by freaky occult-obsessed oddball mimi kinkade and her vacuous, boy-hungry bimbette friend linnea quigley. the loutish, profane, beer-guzzling, sex-happy dipstick dimwits hold a séance as a joke (very bad idea, 'cause the desolate old dive is naturally said to be haunted by demonic spirits). of course, that ill-advised séance awakens those decidedly grumpy and hostile evil spirits, who gruesomely kill and possess a majority of the kids, turning them into ugly, fanged, clawed, boil-faced murderous ghouls who wreak the usual grisly havoc throughout the duration of an especially long, dark and harrowing night of pure terror.yep, this is essentially your umpteenth vigorously graphic and unrelenting wall-to-wall cheap shock-ridden \"evil dead\" rehash, replete with closed-off, there's no easy way out claustrophobic single self-confined setting, outrageously excessive splatter set pieces, an incessantly pounding hum'n'shiver synthesizer score, a total sense of gloom'n'doom-laden grim nightmarishness, and vibrantly in-your-face manic careening cinematography (the expected headlong rush-inducing hyperactive hand-held camera-work, smooth, sinuous tracking shots, crazily tittled camera angles, even the camera on a dolly doing a gracefully gliding 180 degree figure eight). fortunately, kevin s. tenney's slick, assured, stylish direction keeps the extremely threadbare and derivative proceedings thundering along at a speedy clip; moreover, tenny gives the film an attractive polished look and effectively creates a certain crudely energetic and enthusiastically grotesque spooky ooga-booga carnival funhouse atmosphere.however, steve johnson's marvelously gory and imaginative make-up effects are the true star of the show. bloodthirsty highlights include disgusting fat slob hal havins (who played a similarly irritating obese a**hole role in the immortal \"sorority babes in the slimeball bowl-a-rama\" around the same time) having his tongue bitten off, quigley shoving a whole tube of lipstick in one of her breasts (yow!) and gouging a guy's eyes out while she's making love to him (double yow!), a libidinous teen couple getting offed while doing exactly what you think in a coffin (the chick has her neck snapped while the dude has his arm chopped off), kinkade setting her hands on fire, and, in the film's single most nasty scene, a mean old man has his throat slit from the inside out after eating an apple piece laced with razor blades. the trashy'n'thrashy rock score likewise smokes. and then there's kinkade's incredibly wild, sexy and uninhibited demon dance, a sizzling number accompanied by a flickering strobe light and startling jump cuts that kinkade choreographed herself. okay, so this overall doesn't amount to anything more than a completely mindless and pointless, albeit quite nicely mounted and enjoyably vulgar hunk of blithely sleazy fright flick junk, but if you're in the mood for entertainingly brain-dead lowbrow horror scuzziness this cheerfully crass and juvenile dross does the trick just fine.\n",
            "\n",
            "The following review is predicted to be 1, but it is 0\n",
            "this show has shown it's true colors now that democrats are in power. it never did lead the world in iq as anyone who thought it has intelligence has been programmed to think one way (which is a scary thing).comedy central moved this & it's spin off back to an earlier time once the democrats took power for a reason- because now when the democrats screw up - which is just as often as republicans do - stewart no longer takes pot shots at them. that is why the ratings for both this & the spin are dropping.basically, most of the humor now is either lame, or lame sarah palin jokes - which all the ratings dropping comedians are now telling. the facts to back this up speak for themselves. the jay leno show which has been doing the same kind of humor is on the verge of being canceled. the ratings for letterman & conan & the shows that follow them are down.so emperor stewart is not alone. trouble is if any of them start taking real rips at the bungling democrats in power, they could raise their ratings in a hurry because the best humor is always at the expense of whose in power. the bush years proved that because the ratings for this show & colbert, & letterman & leno were higher there.o'bama has done one thing, proved these shows have to be willing to take chances & rip the folks in power if they are to prosper. right now, the daily show & stewart are sagging but maybe they can get lucky & have palin elected as the first woman president in 2012. then the lame palin jokes will become ratings grabbers.\n",
            "\n",
            "The following review is predicted to be 1, but it is 0\n",
            "earth has been destroyed in a nuclear holocaust. well, parts of the earth, because somewhere in italy, a band of purebred survivors--those without radioactive contamination--are holed up in a massive mansion surrounded by lush grounds, waiting for the next opportunity to go hunting for those with polluted blood. the final executioner is the story of one of their would be victims, alan (william mang, who looks, not surprisingly, a lot like kurt russell), and his efforts to take down the legally sanctioned hunters, who are led by edra (marina costa) and erasmus (harrison muller jr. ). alan has been trained to kill by former nypd cop sam (woody strode) who mostly hangs around giving his pupil moral support and mooching for tinned meat. strode is by far the best thing about the film, though he doesn't look at all well and only appears for about a third of the running time. as for the story, it's a blending of elements from better films and stories, including ten little indians, the most dangerous game, and escape from new york. the final executioner moves along at a fair pace and provides reasonable entertainment for less discriminate action fans.\n",
            "\n",
            "The following review is predicted to be 1, but it is 0\n",
            "a young man falls in love with a princess but then has to go to battle to save her father's kingdom. while away, he accidentally kills an enchanted animal which brings a curse upon him. he becomes a beast and begins to kill even his own comrades. when nobody returns to the kingdom from the battle, the king renders the land of battle cursed and forbids anyone from going there. one day, a rebel who wishes to marry the princess decides that it's time they ventured into the cursed land to claim it for the king and the king agrees, when they reach the land the king is captured by the beast and the rebel returns home to lie to the kingdom that the king has been captured and killed. he assumes the throne and prepares to marry the princess but the night before her wedding, the princess escapes to the land to go and battle the beast herself. it is only when she gets to the cursed land that she begins to realise that her father is still alive and that the beast may not even be that evil after all. sadly, her discoveries lead her to pay the ultimate price in their revelation.\n",
            "\n",
            "The following review is predicted to be 1, but it is 0\n",
            "i bought this film from e-bay as part of a lot of about twenty horror flicks, all about a dollar a piece. when watching this, my first impression was that it probably was from the late 80s. later on i began thinking - the linkin park posters on the wall and everything else seemed to hint that i was dealing with a more recent film. realizing that, the flick became an unbearable torment. the last 3 minutes were the longest in the movie history - the film just refused to end. is there a genre such as \"horror for children\"? in that case this film is definitely it. if there are parents, perverse enough to want to introduce their offspring to horror, i suggest this would be perfect for kids of about 6-8. the only thing i really liked was greg cipes who was much too good an actor for that kind of nostalgic retro bottom part of a drive-in double-bill.\n",
            "\n"
          ],
          "name": "stdout"
        }
      ]
    },
    {
      "cell_type": "code",
      "metadata": {
        "colab": {
          "base_uri": "https://localhost:8080/",
          "height": 613
        },
        "id": "K7NgOBzqdf9s",
        "outputId": "76e9ec74-e3c5-4329-86b2-50580433590e"
      },
      "source": [
        "tf.keras.backend.clear_session()\n",
        "\n",
        "model_gru = tf.keras.Sequential([\n",
        "    tf.keras.layers.Embedding(vocab_size, 64, input_length=max_length),\n",
        "    tf.keras.layers.Bidirectional(tf.keras.layers.GRU(64)),\n",
        "    tf.keras.layers.Dense(1, activation='sigmoid')\n",
        "])\n",
        "\n",
        "model_gru.compile(loss='binary_crossentropy',\n",
        "                  optimizer='adam',\n",
        "                  metrics=['accuracy'])\n",
        "\n",
        "gru_history, gru_preds = fit_model(model_gru, return_preds = True)"
      ],
      "execution_count": 23,
      "outputs": [
        {
          "output_type": "stream",
          "text": [
            "Model: \"sequential\"\n",
            "_________________________________________________________________\n",
            "Layer (type)                 Output Shape              Param #   \n",
            "=================================================================\n",
            "embedding (Embedding)        (None, 500, 64)           1280000   \n",
            "_________________________________________________________________\n",
            "bidirectional (Bidirectional (None, 128)               49920     \n",
            "_________________________________________________________________\n",
            "dense (Dense)                (None, 1)                 129       \n",
            "=================================================================\n",
            "Total params: 1,330,049\n",
            "Trainable params: 1,330,049\n",
            "Non-trainable params: 0\n",
            "_________________________________________________________________\n"
          ],
          "name": "stdout"
        },
        {
          "output_type": "display_data",
          "data": {
            "image/png": "[encoded data removed]",
            "text/plain": [
              "<Figure size 720x360 with 2 Axes>"
            ]
          },
          "metadata": {
            "tags": [],
            "needs_background": "light"
          }
        },
        {
          "output_type": "stream",
          "text": [
            "157/157 [==============================] - 2s 14ms/step - loss: 0.3301 - accuracy: 0.8882\n",
            "The accuracy of this model on the unseen test set is 0.8882\n"
          ],
          "name": "stdout"
        }
      ]
    },
    {
      "cell_type": "code",
      "metadata": {
        "colab": {
          "base_uri": "https://localhost:8080/"
        },
        "id": "HboxcGinm1uz",
        "outputId": "15179cec-528b-4705-f08e-f042c6ff5809"
      },
      "source": [
        "print_incorrect_preds(gru_preds, test_labels)"
      ],
      "execution_count": 24,
      "outputs": [
        {
          "output_type": "stream",
          "text": [
            "The following review is predicted to be 0, but it is 1\n",
            "a bunch of mostly obnoxious and grossly unappealing teens go to a creepy, remote, rundown old mortuary located nearby a cemetery to attend an anything-goes all-out halloween party being hosted by freaky occult-obsessed oddball mimi kinkade and her vacuous, boy-hungry bimbette friend linnea quigley. the loutish, profane, beer-guzzling, sex-happy dipstick dimwits hold a séance as a joke (very bad idea, 'cause the desolate old dive is naturally said to be haunted by demonic spirits). of course, that ill-advised séance awakens those decidedly grumpy and hostile evil spirits, who gruesomely kill and possess a majority of the kids, turning them into ugly, fanged, clawed, boil-faced murderous ghouls who wreak the usual grisly havoc throughout the duration of an especially long, dark and harrowing night of pure terror.yep, this is essentially your umpteenth vigorously graphic and unrelenting wall-to-wall cheap shock-ridden \"evil dead\" rehash, replete with closed-off, there's no easy way out claustrophobic single self-confined setting, outrageously excessive splatter set pieces, an incessantly pounding hum'n'shiver synthesizer score, a total sense of gloom'n'doom-laden grim nightmarishness, and vibrantly in-your-face manic careening cinematography (the expected headlong rush-inducing hyperactive hand-held camera-work, smooth, sinuous tracking shots, crazily tittled camera angles, even the camera on a dolly doing a gracefully gliding 180 degree figure eight). fortunately, kevin s. tenney's slick, assured, stylish direction keeps the extremely threadbare and derivative proceedings thundering along at a speedy clip; moreover, tenny gives the film an attractive polished look and effectively creates a certain crudely energetic and enthusiastically grotesque spooky ooga-booga carnival funhouse atmosphere.however, steve johnson's marvelously gory and imaginative make-up effects are the true star of the show. bloodthirsty highlights include disgusting fat slob hal havins (who played a similarly irritating obese a**hole role in the immortal \"sorority babes in the slimeball bowl-a-rama\" around the same time) having his tongue bitten off, quigley shoving a whole tube of lipstick in one of her breasts (yow!) and gouging a guy's eyes out while she's making love to him (double yow!), a libidinous teen couple getting offed while doing exactly what you think in a coffin (the chick has her neck snapped while the dude has his arm chopped off), kinkade setting her hands on fire, and, in the film's single most nasty scene, a mean old man has his throat slit from the inside out after eating an apple piece laced with razor blades. the trashy'n'thrashy rock score likewise smokes. and then there's kinkade's incredibly wild, sexy and uninhibited demon dance, a sizzling number accompanied by a flickering strobe light and startling jump cuts that kinkade choreographed herself. okay, so this overall doesn't amount to anything more than a completely mindless and pointless, albeit quite nicely mounted and enjoyably vulgar hunk of blithely sleazy fright flick junk, but if you're in the mood for entertainingly brain-dead lowbrow horror scuzziness this cheerfully crass and juvenile dross does the trick just fine.\n",
            "\n",
            "The following review is predicted to be 1, but it is 0\n",
            "this show has shown it's true colors now that democrats are in power. it never did lead the world in iq as anyone who thought it has intelligence has been programmed to think one way (which is a scary thing).comedy central moved this & it's spin off back to an earlier time once the democrats took power for a reason- because now when the democrats screw up - which is just as often as republicans do - stewart no longer takes pot shots at them. that is why the ratings for both this & the spin are dropping.basically, most of the humor now is either lame, or lame sarah palin jokes - which all the ratings dropping comedians are now telling. the facts to back this up speak for themselves. the jay leno show which has been doing the same kind of humor is on the verge of being canceled. the ratings for letterman & conan & the shows that follow them are down.so emperor stewart is not alone. trouble is if any of them start taking real rips at the bungling democrats in power, they could raise their ratings in a hurry because the best humor is always at the expense of whose in power. the bush years proved that because the ratings for this show & colbert, & letterman & leno were higher there.o'bama has done one thing, proved these shows have to be willing to take chances & rip the folks in power if they are to prosper. right now, the daily show & stewart are sagging but maybe they can get lucky & have palin elected as the first woman president in 2012. then the lame palin jokes will become ratings grabbers.\n",
            "\n",
            "The following review is predicted to be 0, but it is 1\n",
            "i for one was very anxious to watch this movie.though i knew it was going to be another type of movie in the style of revenge of the nerds, i was still impressed.there is plenty of truth to the fact of this type of learning and believe very strongly that it should be allowed in a \"new style of schooling\".conventional teaching methods do not always teach students what they need to know or should know or want to know.this approach to teaching should be further sought out in true academic courses.while there still was too much of the partying scenes, it obviously had to be thrown in there - for hollywood's sake of making a comedy about college...even though we all know that life isn't really like that by any means.a touch unbelievable, still funny and with a killer ending.awesome ending. crucial to the entire story and very surprising.without the final scene, the movie would have been half as good.i liked this movie and it didn't have to have overly amounts of swearing or nudity or gross out jokes for it to be good.great crew and cast, story and even the generic typecasting of the obligatory \"hampton frat members\" was well done.american pie 1, 2 3 and american wedding or whatever clones it makes doers not measure up to this by 1/3.far better than most comedies about first year college with no demeaning stupid jokes to make somebody throw up with.i liked it, even though it was simple...it was interesting and even had heart...my only regret for watching this movie is that it wasn't longer.\n",
            "\n",
            "The following review is predicted to be 1, but it is 0\n",
            "if you have never read the classic science fiction novel this mini-series is based on, it may actually be good. unfortunately, if you are a fan of the book, you probably won't be able to watch more than the first hour or two. all of the political intrigue has been taken out of the film, the most important scenes from the book have been taken out, characters motivations have been changed completely, and words from the wrong characters mouths. where in the novel paul atredies was a teen age boy with incredible political skill and a great understanding of the way the world worked, in this film he is hot headed and and frustrated. avoid this movie at all costs.\n",
            "\n",
            "The following review is predicted to be 1, but it is 0\n",
            "earth has been destroyed in a nuclear holocaust. well, parts of the earth, because somewhere in italy, a band of purebred survivors--those without radioactive contamination--are holed up in a massive mansion surrounded by lush grounds, waiting for the next opportunity to go hunting for those with polluted blood. the final executioner is the story of one of their would be victims, alan (william mang, who looks, not surprisingly, a lot like kurt russell), and his efforts to take down the legally sanctioned hunters, who are led by edra (marina costa) and erasmus (harrison muller jr. ). alan has been trained to kill by former nypd cop sam (woody strode) who mostly hangs around giving his pupil moral support and mooching for tinned meat. strode is by far the best thing about the film, though he doesn't look at all well and only appears for about a third of the running time. as for the story, it's a blending of elements from better films and stories, including ten little indians, the most dangerous game, and escape from new york. the final executioner moves along at a fair pace and provides reasonable entertainment for less discriminate action fans.\n",
            "\n"
          ],
          "name": "stdout"
        }
      ]
    },
    {
      "cell_type": "code",
      "metadata": {
        "colab": {
          "base_uri": "https://localhost:8080/",
          "height": 613
        },
        "id": "DvgqSakUmwmd",
        "outputId": "fd4f431f-e340-47dc-80bc-0f422d4a99b4"
      },
      "source": [
        "tf.keras.backend.clear_session()\n",
        "\n",
        "model_lstm = tf.keras.Sequential([\n",
        "    tf.keras.layers.Embedding(vocab_size, 64, input_length=max_length),\n",
        "    tf.keras.layers.Bidirectional(tf.keras.layers.LSTM(64)), \n",
        "    tf.keras.layers.Dense(1, activation='sigmoid')\n",
        "])\n",
        "\n",
        "model_lstm.compile(loss='binary_crossentropy',\n",
        "                        optimizer='adam',\n",
        "                        metrics=['accuracy'])\n",
        "\n",
        "lstm_history, lstm_preds = fit_model(model_lstm, return_preds = True)"
      ],
      "execution_count": 25,
      "outputs": [
        {
          "output_type": "stream",
          "text": [
            "Model: \"sequential\"\n",
            "_________________________________________________________________\n",
            "Layer (type)                 Output Shape              Param #   \n",
            "=================================================================\n",
            "embedding (Embedding)        (None, 500, 64)           1280000   \n",
            "_________________________________________________________________\n",
            "bidirectional (Bidirectional (None, 128)               66048     \n",
            "_________________________________________________________________\n",
            "dense (Dense)                (None, 1)                 129       \n",
            "=================================================================\n",
            "Total params: 1,346,177\n",
            "Trainable params: 1,346,177\n",
            "Non-trainable params: 0\n",
            "_________________________________________________________________\n"
          ],
          "name": "stdout"
        },
        {
          "output_type": "display_data",
          "data": {
            "image/png": "[encoded data removed]",
            "text/plain": [
              "<Figure size 720x360 with 2 Axes>"
            ]
          },
          "metadata": {
            "tags": [],
            "needs_background": "light"
          }
        },
        {
          "output_type": "stream",
          "text": [
            "157/157 [==============================] - 2s 14ms/step - loss: 0.2787 - accuracy: 0.8896\n",
            "The accuracy of this model on the unseen test set is 0.8896\n"
          ],
          "name": "stdout"
        }
      ]
    },
    {
      "cell_type": "code",
      "metadata": {
        "colab": {
          "base_uri": "https://localhost:8080/"
        },
        "id": "np4IDcgwmrtP",
        "outputId": "9a4837ea-ecd4-4574-ca57-76e923f00f3e"
      },
      "source": [
        "print_incorrect_preds(lstm_preds, test_labels)"
      ],
      "execution_count": 26,
      "outputs": [
        {
          "output_type": "stream",
          "text": [
            "The following review is predicted to be 0, but it is 1\n",
            "a bunch of mostly obnoxious and grossly unappealing teens go to a creepy, remote, rundown old mortuary located nearby a cemetery to attend an anything-goes all-out halloween party being hosted by freaky occult-obsessed oddball mimi kinkade and her vacuous, boy-hungry bimbette friend linnea quigley. the loutish, profane, beer-guzzling, sex-happy dipstick dimwits hold a séance as a joke (very bad idea, 'cause the desolate old dive is naturally said to be haunted by demonic spirits). of course, that ill-advised séance awakens those decidedly grumpy and hostile evil spirits, who gruesomely kill and possess a majority of the kids, turning them into ugly, fanged, clawed, boil-faced murderous ghouls who wreak the usual grisly havoc throughout the duration of an especially long, dark and harrowing night of pure terror.yep, this is essentially your umpteenth vigorously graphic and unrelenting wall-to-wall cheap shock-ridden \"evil dead\" rehash, replete with closed-off, there's no easy way out claustrophobic single self-confined setting, outrageously excessive splatter set pieces, an incessantly pounding hum'n'shiver synthesizer score, a total sense of gloom'n'doom-laden grim nightmarishness, and vibrantly in-your-face manic careening cinematography (the expected headlong rush-inducing hyperactive hand-held camera-work, smooth, sinuous tracking shots, crazily tittled camera angles, even the camera on a dolly doing a gracefully gliding 180 degree figure eight). fortunately, kevin s. tenney's slick, assured, stylish direction keeps the extremely threadbare and derivative proceedings thundering along at a speedy clip; moreover, tenny gives the film an attractive polished look and effectively creates a certain crudely energetic and enthusiastically grotesque spooky ooga-booga carnival funhouse atmosphere.however, steve johnson's marvelously gory and imaginative make-up effects are the true star of the show. bloodthirsty highlights include disgusting fat slob hal havins (who played a similarly irritating obese a**hole role in the immortal \"sorority babes in the slimeball bowl-a-rama\" around the same time) having his tongue bitten off, quigley shoving a whole tube of lipstick in one of her breasts (yow!) and gouging a guy's eyes out while she's making love to him (double yow!), a libidinous teen couple getting offed while doing exactly what you think in a coffin (the chick has her neck snapped while the dude has his arm chopped off), kinkade setting her hands on fire, and, in the film's single most nasty scene, a mean old man has his throat slit from the inside out after eating an apple piece laced with razor blades. the trashy'n'thrashy rock score likewise smokes. and then there's kinkade's incredibly wild, sexy and uninhibited demon dance, a sizzling number accompanied by a flickering strobe light and startling jump cuts that kinkade choreographed herself. okay, so this overall doesn't amount to anything more than a completely mindless and pointless, albeit quite nicely mounted and enjoyably vulgar hunk of blithely sleazy fright flick junk, but if you're in the mood for entertainingly brain-dead lowbrow horror scuzziness this cheerfully crass and juvenile dross does the trick just fine.\n",
            "\n",
            "The following review is predicted to be 1, but it is 0\n",
            "uzumaki, which translates into \"spirals\", arriving within this new wave of asian horror films following such hits like ringu, ju-on and the eye (two of them with remakes.. and much more coming like dark water and tale of two sisters), falls short of the spooky, supernatural thriller element so characteristic of the other movies, the only thing that remains is weirdness and not in a tim burton or david lynch kind of way, but in a irrelevant and dull way. its start with a girl, some other kid with a crush on her, her best friend and his dad who's obsessed with uzumakis! everything that happens concerns uzumakis, people die and you see uzumakis. so okay, it'll go along with it, i'm kinda amuse by spirals myself, characters don't seem to go anywhere, but i'll play along. we find out the town is cursed by uzumakis, people start screaming at uzumakis and the point is uzumakis are everywhere, the movie is a disaster, it doesn't know where to go, except to show you the power of uzumakis!!!!!!!!! there are some cool concepts like when the mother cuts her fingers because she sees uzumakis on her fingerprints but then there's another scene where she hears her husband (from beyond the grave!!) tell her that she also has uzumakis in her ear, the way they handled that scene was just laughable, not even cheesy fun, there are also some (a little bit) of cool visuals, like the collection the father has of uzumakis and the girl with the uzumakis hair.. yep, uzumakis hair, its out of context though, its seems like it was taken out of a fruit snack commercial where if you eat an uzumakis fruits snack, its taste is so incredible your hair turns into uzumakis, now if this wasn't bad enough, suddenly, out of nowhere there are snail men.. or mansnails whatever and you know why? right? because in their shells they have uuuuzuuuumaaakiiiis. that only left time enough for a crappy anti-climatic ending and by that time i was sick of friggin' uzumakis.. uzumaki here uzumaki there, sure, look around you, how many uzumakis can you find if you want to see a movie about spirals go see pi (3.1416) now there you'll find some pretty cool uzumaki concepts in between the meaning of life and dark city has also a little bit of a spiraling thing in there.this movie could have worked as a music video, it has already garnered a cult following and thats why i was compelled to see it, but after doing so, i'm not sure why people think it's great. i was truly disappointed.\n",
            "\n",
            "The following review is predicted to be 0, but it is 1\n",
            "i for one was very anxious to watch this movie.though i knew it was going to be another type of movie in the style of revenge of the nerds, i was still impressed.there is plenty of truth to the fact of this type of learning and believe very strongly that it should be allowed in a \"new style of schooling\".conventional teaching methods do not always teach students what they need to know or should know or want to know.this approach to teaching should be further sought out in true academic courses.while there still was too much of the partying scenes, it obviously had to be thrown in there - for hollywood's sake of making a comedy about college...even though we all know that life isn't really like that by any means.a touch unbelievable, still funny and with a killer ending.awesome ending. crucial to the entire story and very surprising.without the final scene, the movie would have been half as good.i liked this movie and it didn't have to have overly amounts of swearing or nudity or gross out jokes for it to be good.great crew and cast, story and even the generic typecasting of the obligatory \"hampton frat members\" was well done.american pie 1, 2 3 and american wedding or whatever clones it makes doers not measure up to this by 1/3.far better than most comedies about first year college with no demeaning stupid jokes to make somebody throw up with.i liked it, even though it was simple...it was interesting and even had heart...my only regret for watching this movie is that it wasn't longer.\n",
            "\n",
            "The following review is predicted to be 0, but it is 1\n",
            "i liked this movie way too much. my only problem is i thought the actor playing the villain was a low rent michael ironside. of corse ironside is just a low rent jack nicholson. i guess mike was busy that year with \"highlander 2: the quickening\". sadly \"beastmaster 2\" would have been a much better career move. it is certainly the best of the beastmaster series and in many ways reminiscent of that great big screen classic \"masters of the universe\". not only does it star the incomparable mark singer it also features an amazing supporting cast, specifically the second girl from \"sliders\", uncle phil from \"fresh prince of belair\" and evil chick from \"superman 2\". it rocked my world and is certainly a must see for anyone with no social or physical outlets. beastmaster forever!!! rock'n roll!!!\n",
            "\n",
            "The following review is predicted to be 1, but it is 0\n",
            "if you have never read the classic science fiction novel this mini-series is based on, it may actually be good. unfortunately, if you are a fan of the book, you probably won't be able to watch more than the first hour or two. all of the political intrigue has been taken out of the film, the most important scenes from the book have been taken out, characters motivations have been changed completely, and words from the wrong characters mouths. where in the novel paul atredies was a teen age boy with incredible political skill and a great understanding of the way the world worked, in this film he is hot headed and and frustrated. avoid this movie at all costs.\n",
            "\n"
          ],
          "name": "stdout"
        }
      ]
    },
    {
      "cell_type": "markdown",
      "metadata": {
        "id": "T1fhVWw5hFOX"
      },
      "source": [
        "If we want to use these models to predict sentiment on new reviews, we need to put those reviews into a list and we need to process (tokenize and pad) the reviews "
      ]
    },
    {
      "cell_type": "code",
      "metadata": {
        "id": "dvJ8HXKYuZFc"
      },
      "source": [
        "new_revs = ['this movie was really bad. I hated it and it might be the worst thing ever',\n",
        "            'Oh boy it was too long and it was far from the best',\n",
        "            'Boy and girl meet and fall in love. They go out on dates and eat food. If you like romance, then you will like this movie. It was excellent',\n",
        "            'I expected this movie to be really bad, but I was pleasantly surprised. The movie is a little too long and some of the jokes are bad, but overall it was good.']\n",
        "\n",
        "new_revs = toke_and_pad(new_revs)"
      ],
      "execution_count": 27,
      "outputs": []
    },
    {
      "cell_type": "code",
      "metadata": {
        "colab": {
          "base_uri": "https://localhost:8080/"
        },
        "id": "ITbkAQsyjeFh",
        "outputId": "debdc234-6b36-4490-f3af-eef410a58d58"
      },
      "source": [
        "embedding_model.predict(new_revs)"
      ],
      "execution_count": 28,
      "outputs": [
        {
          "output_type": "execute_result",
          "data": {
            "text/plain": [
              "array([[0.013524  ],\n",
              "       [0.43225908],\n",
              "       [0.95475096],\n",
              "       [0.9747034 ]], dtype=float32)"
            ]
          },
          "metadata": {
            "tags": []
          },
          "execution_count": 28
        }
      ]
    },
    {
      "cell_type": "code",
      "metadata": {
        "colab": {
          "base_uri": "https://localhost:8080/"
        },
        "id": "Ou7U7yKmjhGo",
        "outputId": "55107989-316a-4256-b5cf-f893a7535003"
      },
      "source": [
        "model_cnn.predict(new_revs)"
      ],
      "execution_count": 29,
      "outputs": [
        {
          "output_type": "execute_result",
          "data": {
            "text/plain": [
              "array([[5.3655299e-07],\n",
              "       [9.8578507e-01],\n",
              "       [9.9925202e-01],\n",
              "       [9.9611795e-01]], dtype=float32)"
            ]
          },
          "metadata": {
            "tags": []
          },
          "execution_count": 29
        }
      ]
    },
    {
      "cell_type": "code",
      "metadata": {
        "colab": {
          "base_uri": "https://localhost:8080/"
        },
        "id": "1vKVcBANm8vz",
        "outputId": "becbc003-1f1d-4d19-89df-771b7ef220c1"
      },
      "source": [
        "model_gru.predict(new_revs)"
      ],
      "execution_count": 30,
      "outputs": [
        {
          "output_type": "execute_result",
          "data": {
            "text/plain": [
              "array([[0.00954004],\n",
              "       [0.37681973],\n",
              "       [0.96825045],\n",
              "       [0.85453814]], dtype=float32)"
            ]
          },
          "metadata": {
            "tags": []
          },
          "execution_count": 30
        }
      ]
    },
    {
      "cell_type": "code",
      "metadata": {
        "colab": {
          "base_uri": "https://localhost:8080/"
        },
        "id": "1dIm83lnnAGY",
        "outputId": "0e1a847b-df4a-4b80-fb66-afb0b888326c"
      },
      "source": [
        "model_lstm.predict(new_revs)"
      ],
      "execution_count": 31,
      "outputs": [
        {
          "output_type": "execute_result",
          "data": {
            "text/plain": [
              "array([[0.02070332],\n",
              "       [0.2938824 ],\n",
              "       [0.8498731 ],\n",
              "       [0.80451596]], dtype=float32)"
            ]
          },
          "metadata": {
            "tags": []
          },
          "execution_count": 31
        }
      ]
    }
  ]
}